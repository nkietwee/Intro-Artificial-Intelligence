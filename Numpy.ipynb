{
 "cells": [
  {
   "cell_type": "markdown",
   "metadata": {},
   "source": [
    "## **Numpy**\n",
    "\n",
    "    NumPy is the fundamental package for scientific computing in Python. It is a Pythonlibrary that provides a multidimensional array object, various derived objects (such as masked arrays and matrices), and an assortment of routines for fast operations on arrays, including mathematical, logical, shape manipulation, sorting, selecting, I/O, discrete Fourier transforms, basic linear algebra, basic statistical operations, random simulation and much more.\n",
    "[https://numpy.org/doc/stable/user/whatisnumpy.html]"
   ]
  },
  {
   "cell_type": "code",
   "execution_count": 3,
   "metadata": {},
   "outputs": [],
   "source": [
    "import numpy as np\n",
    "import matplotlib.pyplot as plt # for plot graph"
   ]
  },
  {
   "cell_type": "markdown",
   "metadata": {},
   "source": [
    "## **How to create numpy array**\n",
    "- **np.array**\n",
    "- **np.arrange**\n",
    "- **np.zeros**\n",
    "- **np.random.randn**\n",
    "- **np.random.randint**\n",
    "- **np.random.permutation**"
   ]
  },
  {
   "cell_type": "code",
   "execution_count": 4,
   "metadata": {},
   "outputs": [],
   "source": [
    "# If I forgot what is function do , I can type [function?]\n",
    "# such as\n",
    "# np.array?"
   ]
  },
  {
   "cell_type": "markdown",
   "metadata": {},
   "source": [
    "**np.array**\n",
    "- np.array(object, dtype=None, *, copy=True, order='K', subok=False, ndmin=0, like=None)\n",
    "- Create an array from data type (i.e list , tuple and etc) to numpy array"
   ]
  },
  {
   "cell_type": "code",
   "execution_count": 5,
   "metadata": {},
   "outputs": [
    {
     "name": "stdout",
     "output_type": "stream",
     "text": [
      "[1 2 3 4 5]\n",
      "<class 'numpy.ndarray'>\n",
      "int32\n"
     ]
    }
   ],
   "source": [
    "# conversion from list to NumPy arrays\n",
    "a = np.array([1, 2, 3, 4, 5])\n",
    "print(a)\n",
    "print(type(a))\n",
    "print(a.dtype)"
   ]
  },
  {
   "cell_type": "code",
   "execution_count": 6,
   "metadata": {},
   "outputs": [
    {
     "name": "stdout",
     "output_type": "stream",
     "text": [
      "[ 6  7  8  9 10]\n",
      "<class 'numpy.ndarray'>\n",
      "int32\n"
     ]
    }
   ],
   "source": [
    "# conversion from tuples to NumPy arrays\n",
    "a = np.array((6, 7, 8, 9, 10))\n",
    "print(a)\n",
    "print(type(a))\n",
    "print(a.dtype)"
   ]
  },
  {
   "cell_type": "code",
   "execution_count": 7,
   "metadata": {},
   "outputs": [
    {
     "name": "stdout",
     "output_type": "stream",
     "text": [
      "[6 list([7]) 8 9 10]\n",
      "<class 'numpy.ndarray'>\n",
      "object\n"
     ]
    },
    {
     "name": "stderr",
     "output_type": "stream",
     "text": [
      "C:\\Users\\Nawaporn.k\\AppData\\Local\\Temp\\ipykernel_16808\\1770930003.py:2: VisibleDeprecationWarning: Creating an ndarray from ragged nested sequences (which is a list-or-tuple of lists-or-tuples-or ndarrays with different lengths or shapes) is deprecated. If you meant to do this, you must specify 'dtype=object' when creating the ndarray.\n",
      "  a = np.array((6, [7], 8, 9, 10))\n"
     ]
    }
   ],
   "source": [
    "# If I add many data type in np.array, It convert to object\n",
    "a = np.array((6, [7], 8, 9, 10))\n",
    "print(a)\n",
    "print(type(a))\n",
    "print(a.dtype)\n",
    "# This means that a is a numpy array where each element is stored as an object.\n",
    "# This is not typical for numerical arrays, as it loses some of the performance\n",
    "# and memory efficiency benefits of using numpy arrays with homogeneous data types. "
   ]
  },
  {
   "cell_type": "code",
   "execution_count": 8,
   "metadata": {},
   "outputs": [
    {
     "name": "stdout",
     "output_type": "stream",
     "text": [
      "[1 2 3 5 7]\n",
      "<class 'numpy.ndarray'>\n",
      "int32\n",
      "____________________\n",
      "[1. 2. 3. 5. 7.]\n",
      "<class 'numpy.ndarray'>\n",
      "float32\n"
     ]
    }
   ],
   "source": [
    "# Information for dtype(data type) [https://numpy.org/doc/stable/user/basics.types.html]\n",
    "a = np.array([1, 2, 3, 5, 7], dtype='i')\n",
    "print(a)\n",
    "print(type(a))\n",
    "print(a.dtype)\n",
    "\n",
    "print('____________________')\n",
    "\n",
    "b = np.array([1, 2, 3, 5, 7], dtype='f')\n",
    "print(b)\n",
    "print(type(b))\n",
    "print(b.dtype)"
   ]
  },
  {
   "cell_type": "code",
   "execution_count": 9,
   "metadata": {},
   "outputs": [
    {
     "name": "stdout",
     "output_type": "stream",
     "text": [
      "[[1 2 3]\n",
      " [4 5 6]]\n",
      "<class 'numpy.ndarray'>\n",
      "int32\n",
      "2\n",
      "(2, 3)\n"
     ]
    }
   ],
   "source": [
    "a = np.array([[1, 2, 3], [4, 5, 6]])\n",
    "print(a)\n",
    "print(type(a))\n",
    "print(a.dtype)\n",
    "print(a.ndim)\n",
    "print(a.shape)\n"
   ]
  },
  {
   "cell_type": "code",
   "execution_count": 10,
   "metadata": {},
   "outputs": [
    {
     "name": "stderr",
     "output_type": "stream",
     "text": [
      "C:\\Users\\Nawaporn.k\\AppData\\Local\\Temp\\ipykernel_16808\\1201062784.py:2: VisibleDeprecationWarning: Creating an ndarray from ragged nested sequences (which is a list-or-tuple of lists-or-tuples-or ndarrays with different lengths or shapes) is deprecated. If you meant to do this, you must specify 'dtype=object' when creating the ndarray.\n",
      "  a = np.array([[1, 2, 3, 4], [4, 5, 6]])\n"
     ]
    }
   ],
   "source": [
    "# It should be equal all dimension\n",
    "a = np.array([[1, 2, 3, 4], [4, 5, 6]])"
   ]
  },
  {
   "cell_type": "code",
   "execution_count": 11,
   "metadata": {},
   "outputs": [
    {
     "name": "stdout",
     "output_type": "stream",
     "text": [
      "3\n",
      "(2, 2, 2)\n"
     ]
    }
   ],
   "source": [
    "a = np.array([[[1, 2], [3, 4]], [[5, 6], [7, 8]]])\n",
    "print(a.ndim)\n",
    "print(a.shape)"
   ]
  },
  {
   "cell_type": "markdown",
   "metadata": {},
   "source": [
    "**c is a 3D array:**\n",
    "- The first dimension (or axis) has 2 elements: [[1, 2], [3, 4]] and [[5, 6], [7, 8]].\n",
    "- The second dimension (or axis) also has 2 elements: [1, 2] and [3, 4] within each sub-array.\n",
    "- The third dimension (or axis) has 2 elements: 1 and 2 within each sub-sub-array."
   ]
  },
  {
   "cell_type": "markdown",
   "metadata": {},
   "source": [
    "**How to access value**\n",
    "- Bracket Indexing ([][] notation):\n",
    "- Comma-Separated Indices ([,] notation):\n"
   ]
  },
  {
   "cell_type": "code",
   "execution_count": 12,
   "metadata": {},
   "outputs": [
    {
     "data": {
      "text/plain": [
       "array([[ 1,  2,  3,  4,  5],\n",
       "       [ 6,  7,  8,  9, 10]])"
      ]
     },
     "execution_count": 12,
     "metadata": {},
     "output_type": "execute_result"
    }
   ],
   "source": [
    "a = np.array([[1, 2, 3, 4, 5] ,[6, 7, 8, 9, 10]])\n",
    "a"
   ]
  },
  {
   "cell_type": "code",
   "execution_count": 13,
   "metadata": {},
   "outputs": [
    {
     "data": {
      "text/plain": [
       "2"
      ]
     },
     "execution_count": 13,
     "metadata": {},
     "output_type": "execute_result"
    }
   ],
   "source": [
    "# Bracket Indexing ([][] notation):\n",
    "a[0][1] # [0] first row [1] second column"
   ]
  },
  {
   "cell_type": "code",
   "execution_count": 14,
   "metadata": {},
   "outputs": [
    {
     "data": {
      "text/plain": [
       "2"
      ]
     },
     "execution_count": 14,
     "metadata": {},
     "output_type": "execute_result"
    }
   ],
   "source": [
    "# Comma-Separated Indices ([,] notation):\n",
    "a[0, 1] # [0] first row [1] second column"
   ]
  },
  {
   "cell_type": "code",
   "execution_count": 15,
   "metadata": {},
   "outputs": [],
   "source": [
    "a = np.array([[[1], [2], [3]], [[4], [5], [6]]])\n",
    "b = np.array([[1, 2, 3], [4, 5, 6]])"
   ]
  },
  {
   "cell_type": "code",
   "execution_count": 16,
   "metadata": {},
   "outputs": [
    {
     "name": "stdout",
     "output_type": "stream",
     "text": [
      "Array a:\n",
      "[[[1]\n",
      "  [2]\n",
      "  [3]]\n",
      "\n",
      " [[4]\n",
      "  [5]\n",
      "  [6]]]\n",
      "Shape of a: (2, 3, 1)\n",
      "Dimension : 3\n",
      "Type :  int32\n",
      "\n",
      "Array b:\n",
      "[[1 2 3]\n",
      " [4 5 6]]\n",
      "Shape of b: (2, 3)\n",
      "Dimension : 2\n",
      "Type :  int32\n"
     ]
    }
   ],
   "source": [
    "print(\"Array a:\") # like rgb\n",
    "print(a)\n",
    "print(\"Shape of a:\", a.shape)\n",
    "print(\"Dimension :\", a.ndim)\n",
    "print(\"Type : \", a.dtype)\n",
    "print(\"\")\n",
    "\n",
    "# Array b\n",
    "print(\"Array b:\")\n",
    "print(b)\n",
    "print(\"Shape of b:\", b.shape)\n",
    "print(\"Dimension :\", b.ndim)\n",
    "print(\"Type : \", b.dtype)"
   ]
  },
  {
   "cell_type": "code",
   "execution_count": 17,
   "metadata": {},
   "outputs": [
    {
     "name": "stdout",
     "output_type": "stream",
     "text": [
      "3\n",
      "<class 'numpy.ndarray'>\n",
      "int32\n"
     ]
    }
   ],
   "source": [
    "# ??\n",
    "a = np.array(3)\n",
    "print(a)\n",
    "print(type(a))\n",
    "print(a.dtype)\n"
   ]
  },
  {
   "cell_type": "markdown",
   "metadata": {},
   "source": [
    "**np.arange**\n",
    "\n",
    "- np.arange([start, ]stop, [step, ]dtype=None, *, device=None, like=None)\n",
    "- Return evenly spaced values within a given interval.\n"
   ]
  },
  {
   "cell_type": "code",
   "execution_count": 18,
   "metadata": {},
   "outputs": [],
   "source": [
    "# np.arange?"
   ]
  },
  {
   "cell_type": "code",
   "execution_count": 19,
   "metadata": {},
   "outputs": [],
   "source": [
    "a = np.arange(5) # (stop)"
   ]
  },
  {
   "cell_type": "code",
   "execution_count": 20,
   "metadata": {},
   "outputs": [
    {
     "data": {
      "text/plain": [
       "array([0, 1, 2, 3, 4])"
      ]
     },
     "execution_count": 20,
     "metadata": {},
     "output_type": "execute_result"
    }
   ],
   "source": [
    "# a: Displays the array a in a format suitable for direct inspection \n",
    "# in an interactive session. In Jupyter notebooks, it typically formats \n",
    "# the array in a neat, readable manner.\n",
    "a"
   ]
  },
  {
   "cell_type": "code",
   "execution_count": 21,
   "metadata": {},
   "outputs": [
    {
     "name": "stdout",
     "output_type": "stream",
     "text": [
      "[0 1 2 3 4]\n"
     ]
    }
   ],
   "source": [
    "# print(a): Prints the array a explicitly using the print() function,\n",
    "# which may result in a slightly different formatting, especially when\n",
    "# printing multiple arrays or when mixed with other output.\n",
    "print(a)"
   ]
  },
  {
   "cell_type": "code",
   "execution_count": 22,
   "metadata": {},
   "outputs": [
    {
     "name": "stdout",
     "output_type": "stream",
     "text": [
      "[20 21 22 23 24 25 26 27 28 29]\n"
     ]
    }
   ],
   "source": [
    "b = np.arange(20, 30) # (start, stop)\n",
    "print(b)"
   ]
  },
  {
   "cell_type": "code",
   "execution_count": 23,
   "metadata": {},
   "outputs": [
    {
     "name": "stdout",
     "output_type": "stream",
     "text": [
      "[20 22 24 26 28]\n"
     ]
    }
   ],
   "source": [
    "c = np.arange(20, 30, 2) # (start, stop, step)\n",
    "print(c)"
   ]
  },
  {
   "cell_type": "code",
   "execution_count": 24,
   "metadata": {},
   "outputs": [
    {
     "name": "stdout",
     "output_type": "stream",
     "text": [
      "range(0, 10)\n"
     ]
    }
   ],
   "source": [
    "# When you use print(range(10)), it displays range(0, 10)\n",
    "# because range is a special type of sequence object\n",
    "# that represents a range of numbers. To see the actual numbers,\n",
    "# you need to convert the range object to a list or iterate through it.\n",
    "# This approach provides memory efficiency and performance benefits,\n",
    "# especially for large ranges.\n",
    "print(range(10))"
   ]
  },
  {
   "cell_type": "code",
   "execution_count": 25,
   "metadata": {},
   "outputs": [
    {
     "data": {
      "text/plain": [
       "range"
      ]
     },
     "execution_count": 25,
     "metadata": {},
     "output_type": "execute_result"
    }
   ],
   "source": [
    "type(range(10))"
   ]
  },
  {
   "cell_type": "markdown",
   "metadata": {},
   "source": [
    "**np.zeros**\n",
    "- numpy.zeros(shape, dtype=float, order='C', *, like=None)\n",
    "- Return a new array of given shape and type, filled with zeros."
   ]
  },
  {
   "cell_type": "code",
   "execution_count": 26,
   "metadata": {},
   "outputs": [],
   "source": [
    "# np.zeros?"
   ]
  },
  {
   "cell_type": "code",
   "execution_count": 27,
   "metadata": {},
   "outputs": [
    {
     "data": {
      "text/plain": [
       "array([0., 0., 0., 0., 0.])"
      ]
     },
     "execution_count": 27,
     "metadata": {},
     "output_type": "execute_result"
    }
   ],
   "source": [
    "# default datatype is float\n",
    "a = np.zeros(5)\n",
    "a"
   ]
  },
  {
   "cell_type": "code",
   "execution_count": 28,
   "metadata": {},
   "outputs": [
    {
     "data": {
      "text/plain": [
       "array([0, 0, 0, 0, 0, 0, 0, 0, 0, 0])"
      ]
     },
     "execution_count": 28,
     "metadata": {},
     "output_type": "execute_result"
    }
   ],
   "source": [
    "a = np.zeros(10, dtype=int)\n",
    "a"
   ]
  },
  {
   "cell_type": "markdown",
   "metadata": {},
   "source": [
    "**np.ones**\n",
    " - numpy.ones(shape, dtype=None, order='C', *, device=None, like=None)\n",
    " - Return a new array of given shape and type, filled with ones."
   ]
  },
  {
   "cell_type": "code",
   "execution_count": 29,
   "metadata": {},
   "outputs": [],
   "source": [
    "# np.ones?"
   ]
  },
  {
   "cell_type": "code",
   "execution_count": 30,
   "metadata": {},
   "outputs": [
    {
     "data": {
      "text/plain": [
       "array([1., 1., 1., 1., 1.])"
      ]
     },
     "execution_count": 30,
     "metadata": {},
     "output_type": "execute_result"
    }
   ],
   "source": [
    "a = np.ones(5)\n",
    "a"
   ]
  },
  {
   "cell_type": "code",
   "execution_count": 31,
   "metadata": {},
   "outputs": [
    {
     "data": {
      "text/plain": [
       "array([1, 1, 1, 1, 1, 1, 1, 1, 1, 1])"
      ]
     },
     "execution_count": 31,
     "metadata": {},
     "output_type": "execute_result"
    }
   ],
   "source": [
    "a = np.ones(10, dtype=int)\n",
    "a"
   ]
  },
  {
   "cell_type": "markdown",
   "metadata": {},
   "source": [
    "**np.random**\n",
    "- **np.random.rand**\n",
    "- **np.reshape**\n",
    "- **np.random.randn**\n",
    "- **np.random.randint**\n",
    "- **np.random.permutation**"
   ]
  },
  {
   "cell_type": "markdown",
   "metadata": {},
   "source": [
    "**np.random.rand**\n",
    "- np.random.rand(d0, d1, ..., dn)\n",
    "- Random values between 0 and 1 in a given shape\n"
   ]
  },
  {
   "cell_type": "code",
   "execution_count": 32,
   "metadata": {},
   "outputs": [],
   "source": [
    "# np.random.rand.rand?"
   ]
  },
  {
   "cell_type": "code",
   "execution_count": 33,
   "metadata": {},
   "outputs": [
    {
     "name": "stdout",
     "output_type": "stream",
     "text": [
      "[0.86463855 0.46123743 0.98043754 0.18418598 0.30127597 0.41016193\n",
      " 0.59365521 0.70725096 0.99624528 0.78950846 0.09290426 0.97411183\n",
      " 0.54515794 0.30511766 0.10981413 0.89000458 0.25424263 0.64173323\n",
      " 0.20647488 0.76651951 0.5223008  0.87642628 0.49114174 0.94907455\n",
      " 0.05204825 0.88683047 0.70205491 0.30590321 0.35823129 0.41387646\n",
      " 0.52017888 0.80998047 0.95826608 0.91827796 0.1135931  0.50515867\n",
      " 0.32378539 0.58477212 0.44890409 0.23492911 0.22679238 0.33885903\n",
      " 0.51358611 0.95329343 0.95432347 0.60001251 0.6912492  0.22301803\n",
      " 0.58063541 0.86057057 0.75589175 0.67517341 0.89774008 0.80666229\n",
      " 0.64053718 0.39279044 0.07462591 0.25926218 0.43647207 0.13533579\n",
      " 0.47250756 0.43835724 0.30902771 0.28453307 0.41333951 0.89041595\n",
      " 0.70836641 0.50438898 0.82724126 0.7707202  0.04631179 0.36890885\n",
      " 0.70159184 0.03821776 0.11314304 0.82395193 0.02097278 0.75407034\n",
      " 0.71999529 0.5314575  0.42771067 0.47637305 0.36557263 0.33703117\n",
      " 0.49519316 0.95340029 0.83220575 0.74538195 0.82590379 0.69726243\n",
      " 0.82355918 0.56050684 0.60505652 0.63271285 0.37177523 0.57945279\n",
      " 0.44063029 0.70988285 0.10771915 0.73801326]\n"
     ]
    }
   ],
   "source": [
    "a = np.random.rand(100)\n",
    "print(a)"
   ]
  },
  {
   "cell_type": "code",
   "execution_count": 34,
   "metadata": {},
   "outputs": [
    {
     "data": {
      "text/plain": [
       "(array([10.,  3., 10.,  9., 14., 12.,  8., 11., 14.,  9.]),\n",
       " array([0.02097278, 0.11850003, 0.21602728, 0.31355453, 0.41108178,\n",
       "        0.50860903, 0.60613628, 0.70366353, 0.80119078, 0.89871803,\n",
       "        0.99624528]),\n",
       " <BarContainer object of 10 artists>)"
      ]
     },
     "execution_count": 34,
     "metadata": {},
     "output_type": "execute_result"
    },
    {
     "data": {
      "image/png": "[encoded data removed]",
      "text/plain": [
       "<Figure size 640x480 with 1 Axes>"
      ]
     },
     "metadata": {},
     "output_type": "display_data"
    }
   ],
   "source": [
    "plt.hist(a)"
   ]
  },
  {
   "cell_type": "code",
   "execution_count": 35,
   "metadata": {},
   "outputs": [
    {
     "name": "stdout",
     "output_type": "stream",
     "text": [
      "[[0.92201243 0.31632112 0.8529386 ]\n",
      " [0.48149624 0.22446164 0.92041703]]\n"
     ]
    }
   ],
   "source": [
    "b = np.random.rand(2, 3)\n",
    "print(b)"
   ]
  },
  {
   "cell_type": "code",
   "execution_count": 36,
   "metadata": {},
   "outputs": [
    {
     "name": "stdout",
     "output_type": "stream",
     "text": [
      "[[[0.40537562 0.7651016  0.8975327  0.99878071]\n",
      "  [0.20662189 0.79682715 0.07991463 0.29059024]\n",
      "  [0.93892895 0.88217132 0.45807848 0.30895241]]\n",
      "\n",
      " [[0.61129324 0.78190835 0.41725592 0.25458119]\n",
      "  [0.20060948 0.02235503 0.69153356 0.81449723]\n",
      "  [0.63638824 0.02625659 0.62782717 0.90582468]]]\n"
     ]
    }
   ],
   "source": [
    "b = np.random.rand(2, 3, 4)\n",
    "print(b)"
   ]
  },
  {
   "cell_type": "markdown",
   "metadata": {},
   "source": [
    "**np.random.randn**\n",
    "- random.randn(d0, d1, ..., dn)\n",
    "- Return a sample (or samples) from the “standard normal” distribution."
   ]
  },
  {
   "cell_type": "code",
   "execution_count": 37,
   "metadata": {},
   "outputs": [],
   "source": [
    "# np.random.randn?"
   ]
  },
  {
   "cell_type": "code",
   "execution_count": 38,
   "metadata": {},
   "outputs": [
    {
     "name": "stdout",
     "output_type": "stream",
     "text": [
      "[ 0.03409198 -0.09532754  1.6275968   1.08906142  0.68029027  1.68836607\n",
      "  1.19788867  0.00673756 -0.84287293  0.84426029]\n"
     ]
    }
   ],
   "source": [
    "A = np.random.randn(10)\n",
    "print(A)"
   ]
  },
  {
   "cell_type": "code",
   "execution_count": 39,
   "metadata": {},
   "outputs": [
    {
     "name": "stdout",
     "output_type": "stream",
     "text": [
      "[ 1.06766577e+00 -1.58155053e-01  2.29114722e-01 -5.29738915e-01\n",
      "  2.74234396e-01  3.76549813e-01  6.70814206e-01 -1.31526496e+00\n",
      "  8.90715046e-01  8.69761580e-01  9.93392922e-01 -6.61699548e-02\n",
      " -5.28586000e-01 -2.15465075e-04  3.56684875e-01  1.10826945e+00\n",
      " -2.07634702e+00  4.70122303e-01 -9.04648986e-01  1.39002785e+00\n",
      " -5.24613245e-01 -6.08579678e-02 -1.84487522e-01  7.16494640e-01\n",
      " -3.43979660e-01 -1.10730963e+00  1.49747342e-01 -5.48928074e-02\n",
      "  1.48189843e-01 -1.38999814e+00  6.32861424e-01 -6.00232811e-01\n",
      "  1.20661675e+00 -7.64046773e-01  5.34676717e-01  8.10322043e-01\n",
      "  3.14030349e-01 -1.78476933e+00 -1.36162546e+00 -1.35244298e-01\n",
      " -3.81311006e-01  7.61000003e-01 -8.46824077e-01 -7.08968646e-01\n",
      " -8.51554933e-03  7.97220724e-01  2.12342804e-01  1.27783641e-03\n",
      "  5.36609132e-01  1.60282755e+00  3.73302787e-01 -5.98725570e-01\n",
      "  9.59375404e-01  1.78471255e-01 -8.59097468e-01  6.77491883e-01\n",
      "  8.16788247e-01  5.90613683e-01 -4.15481811e-01  1.34745124e+00\n",
      " -1.14554030e+00 -1.35322472e+00 -2.07743782e-01  1.64663744e+00\n",
      " -1.46627795e-01  2.94178289e-01 -3.91370160e-01  5.83539011e-01\n",
      " -3.51910969e-01 -1.52060166e-01  3.90685299e-01  2.43226063e-01\n",
      " -1.64546115e+00  1.63768941e+00  9.35319293e-01  6.50680464e-01\n",
      " -9.80122101e-02  4.30079586e-02  1.09861194e+00 -7.82545817e-01\n",
      "  2.22897449e-01  1.33917790e+00  6.74267538e-01 -1.98424930e-01\n",
      "  8.12575520e-01  7.71831094e-02  1.74603189e+00 -4.41022930e-01\n",
      "  1.95892597e+00  2.23717371e-01 -1.17042380e+00 -1.49229761e+00\n",
      "  7.60634077e-01 -1.24319781e+00  6.43689811e-01 -4.37516997e-01\n",
      " -7.14732449e-01  1.35919221e-01 -8.43986315e-01 -2.05789709e+00]\n"
     ]
    }
   ],
   "source": [
    "A = np.random.randn(100)\n",
    "print(A)"
   ]
  },
  {
   "cell_type": "markdown",
   "metadata": {},
   "source": [
    "**np.reshape**\n",
    "- numpy.reshape(a, newshape, order='C')[source]\n",
    "- Gives a new shape to an array without changing its data."
   ]
  },
  {
   "cell_type": "markdown",
   "metadata": {},
   "source": [
    "**How to reshape numpy array**\n",
    "- add reshape to numpy array\n",
    "- It must have variable for recieve reshape function\n"
   ]
  },
  {
   "cell_type": "code",
   "execution_count": 40,
   "metadata": {},
   "outputs": [
    {
     "name": "stdout",
     "output_type": "stream",
     "text": [
      "[[ 0.0791943  -1.57567352  0.18923087 -0.479294    0.73634757]\n",
      " [ 1.42534745 -2.29370458  0.33862963 -0.16220437 -1.93897664]]\n"
     ]
    }
   ],
   "source": [
    "# add reshape to numpy array\n",
    "A = np.random.randn(10).reshape(2, 5)\n",
    "print(A)"
   ]
  },
  {
   "cell_type": "code",
   "execution_count": 41,
   "metadata": {},
   "outputs": [
    {
     "name": "stdout",
     "output_type": "stream",
     "text": [
      "[[ 0.0791943  -1.57567352  0.18923087 -0.479294    0.73634757]\n",
      " [ 1.42534745 -2.29370458  0.33862963 -0.16220437 -1.93897664]]\n"
     ]
    }
   ],
   "source": [
    "# Due to reshape return new array ,so It must have variable for recieve reshape function\n",
    "A = A.reshape(2, 5)\n",
    "print(A)"
   ]
  },
  {
   "cell_type": "markdown",
   "metadata": {},
   "source": [
    "**np.random.randint**\n",
    "- random.randint(low, high=None, size=None, dtype=int)\n",
    "- Return random integers from low (inclusive) to high (exclusive)."
   ]
  },
  {
   "cell_type": "code",
   "execution_count": 42,
   "metadata": {},
   "outputs": [],
   "source": [
    "# np.random.randint?"
   ]
  },
  {
   "cell_type": "code",
   "execution_count": 43,
   "metadata": {},
   "outputs": [
    {
     "data": {
      "text/plain": [
       "12"
      ]
     },
     "execution_count": 43,
     "metadata": {},
     "output_type": "execute_result"
    }
   ],
   "source": [
    "np.random.randint(20) # (high)"
   ]
  },
  {
   "cell_type": "code",
   "execution_count": 44,
   "metadata": {},
   "outputs": [
    {
     "data": {
      "text/plain": [
       "22"
      ]
     },
     "execution_count": 44,
     "metadata": {},
     "output_type": "execute_result"
    }
   ],
   "source": [
    "np.random.randint(20, 30) # (low, high)"
   ]
  },
  {
   "cell_type": "markdown",
   "metadata": {},
   "source": [
    "**np.random.permutation**\n",
    "- np.random.permutation(x)\n",
    "- Randomly permute a sequence, or return a permuted range.\n",
    "    If x is an integer, randomly permute np.arange(x).\n",
    "    If x is an array, make a copy and shuffle the elements randomly."
   ]
  },
  {
   "cell_type": "code",
   "execution_count": 45,
   "metadata": {},
   "outputs": [],
   "source": [
    "# np.random.permutation?"
   ]
  },
  {
   "cell_type": "code",
   "execution_count": 46,
   "metadata": {},
   "outputs": [
    {
     "name": "stdout",
     "output_type": "stream",
     "text": [
      "[3 2 0 4 1]\n"
     ]
    }
   ],
   "source": [
    "A = np.random.permutation(5)\n",
    "print(A)"
   ]
  },
  {
   "cell_type": "code",
   "execution_count": 47,
   "metadata": {},
   "outputs": [
    {
     "name": "stdout",
     "output_type": "stream",
     "text": [
      "[3 4 1 0 2]\n"
     ]
    }
   ],
   "source": [
    "B = np.random.permutation(np.arange(5))\n",
    "print(B)"
   ]
  },
  {
   "cell_type": "markdown",
   "metadata": {},
   "source": [
    "## **How to slicing array** [https://www.tutorialspoint.com/accessing-data-along-multiple-dimensions-arrays-in-python-numpy]\n",
    "- **[start] [stop] [step]**\n",
    "- arr[start:stop]         # items start through stop-1\n",
    "- arr[start:]             # items start through the rest of the array\n",
    "- arr[:stop]              # items from the beginning through stop-1\n",
    "- arr[:]                  # a copy of the whole array\n",
    "- arr[start:stop:step]    # start through not past stop, by step"
   ]
  },
  {
   "cell_type": "markdown",
   "metadata": {},
   "source": [
    "**1D array**"
   ]
  },
  {
   "cell_type": "code",
   "execution_count": 48,
   "metadata": {},
   "outputs": [
    {
     "name": "stdout",
     "output_type": "stream",
     "text": [
      "[ 0  1  2  3  4  5  6  7  8  9 10 11 12 13 14 15 16 17 18 19 20 21 22 23\n",
      " 24 25 26 27 28 29 30 31 32 33 34 35 36 37 38 39 40 41 42 43 44 45 46 47\n",
      " 48 49 50 51 52 53 54 55 56 57 58 59 60 61 62 63 64 65 66 67 68 69 70 71\n",
      " 72 73 74 75 76 77 78 79 80 81 82 83 84 85 86 87 88 89 90 91 92 93 94 95\n",
      " 96 97 98 99]\n"
     ]
    }
   ],
   "source": [
    "A = np.arange(100)\n",
    "print(A)"
   ]
  },
  {
   "cell_type": "code",
   "execution_count": 49,
   "metadata": {},
   "outputs": [
    {
     "data": {
      "text/plain": [
       "5"
      ]
     },
     "execution_count": 49,
     "metadata": {},
     "output_type": "execute_result"
    }
   ],
   "source": [
    "A[5] # 5 is position "
   ]
  },
  {
   "cell_type": "code",
   "execution_count": 50,
   "metadata": {},
   "outputs": [
    {
     "data": {
      "text/plain": [
       "99"
      ]
     },
     "execution_count": 50,
     "metadata": {},
     "output_type": "execute_result"
    }
   ],
   "source": [
    "A[-1] # last position"
   ]
  },
  {
   "cell_type": "code",
   "execution_count": 51,
   "metadata": {},
   "outputs": [
    {
     "data": {
      "text/plain": [
       "array([2, 3, 4, 5, 6, 7, 8, 9])"
      ]
     },
     "execution_count": 51,
     "metadata": {},
     "output_type": "execute_result"
    }
   ],
   "source": [
    "A[2:10]\n",
    "# start is position 2\n",
    "# end is position 10\n",
    "# step each 1(default)"
   ]
  },
  {
   "cell_type": "code",
   "execution_count": 52,
   "metadata": {},
   "outputs": [
    {
     "data": {
      "text/plain": [
       "array([50, 49, 48, 47, 46, 45, 44, 43, 42, 41, 40, 39, 38, 37, 36, 35, 34,\n",
       "       33, 32, 31, 30, 29, 28, 27, 26, 25, 24, 23, 22, 21, 20, 19, 18, 17,\n",
       "       16, 15, 14, 13, 12, 11, 10,  9,  8,  7,  6,  5,  4,  3,  2,  1,  0])"
      ]
     },
     "execution_count": 52,
     "metadata": {},
     "output_type": "execute_result"
    }
   ],
   "source": [
    "A[50::-1]\n",
    "# start is 50\n",
    "# end is all \n",
    "# step each -1 (reverse)"
   ]
  },
  {
   "cell_type": "markdown",
   "metadata": {},
   "source": [
    " ##  **2D array**\n",
    "- [row_slice, column_slice]\n",
    "- access value at **row** [start_row : end_row : step]\n",
    "- access value at **column** [, : start_col : end_col : step]\n",
    "- access value at **row and column** [start_row : end_row : step **,** : start_col : end_col : step]"
   ]
  },
  {
   "cell_type": "markdown",
   "metadata": {},
   "source": [
    "#### **access value at row**"
   ]
  },
  {
   "cell_type": "code",
   "execution_count": 53,
   "metadata": {},
   "outputs": [
    {
     "name": "stdout",
     "output_type": "stream",
     "text": [
      "[[ 0  1  2  3  4  5  6  7  8  9 10 11 12 13 14 15 16 17 18 19]\n",
      " [20 21 22 23 24 25 26 27 28 29 30 31 32 33 34 35 36 37 38 39]\n",
      " [40 41 42 43 44 45 46 47 48 49 50 51 52 53 54 55 56 57 58 59]\n",
      " [60 61 62 63 64 65 66 67 68 69 70 71 72 73 74 75 76 77 78 79]\n",
      " [80 81 82 83 84 85 86 87 88 89 90 91 92 93 94 95 96 97 98 99]]\n"
     ]
    }
   ],
   "source": [
    "B = np.arange(100).reshape(5, 20)\n",
    "print(B)"
   ]
  },
  {
   "cell_type": "code",
   "execution_count": 54,
   "metadata": {},
   "outputs": [
    {
     "data": {
      "text/plain": [
       "45"
      ]
     },
     "execution_count": 54,
     "metadata": {},
     "output_type": "execute_result"
    }
   ],
   "source": [
    "# access row at 2 ,column at 3\n",
    "B[2][5] "
   ]
  },
  {
   "cell_type": "code",
   "execution_count": 55,
   "metadata": {
    "scrolled": true
   },
   "outputs": [
    {
     "data": {
      "text/plain": [
       "array([[60, 61, 62, 63, 64, 65, 66, 67, 68, 69, 70, 71, 72, 73, 74, 75,\n",
       "        76, 77, 78, 79],\n",
       "       [80, 81, 82, 83, 84, 85, 86, 87, 88, 89, 90, 91, 92, 93, 94, 95,\n",
       "        96, 97, 98, 99]])"
      ]
     },
     "execution_count": 55,
     "metadata": {},
     "output_type": "execute_result"
    }
   ],
   "source": [
    "# access row at 2 and all column\n",
    "# (If omitted, it defaults to the end of the array.)\n",
    "B[3:]"
   ]
  },
  {
   "cell_type": "code",
   "execution_count": 56,
   "metadata": {},
   "outputs": [
    {
     "data": {
      "text/plain": [
       "array([[ 0,  1,  2,  3,  4,  5,  6,  7,  8,  9, 10, 11, 12, 13, 14, 15,\n",
       "        16, 17, 18, 19],\n",
       "       [20, 21, 22, 23, 24, 25, 26, 27, 28, 29, 30, 31, 32, 33, 34, 35,\n",
       "        36, 37, 38, 39]])"
      ]
     },
     "execution_count": 56,
     "metadata": {},
     "output_type": "execute_result"
    }
   ],
   "source": [
    "# access row 0 to 2 and all column\n",
    "# (If omitted, it defaults to the beginning of the array.)\n",
    "B[:2]"
   ]
  },
  {
   "cell_type": "code",
   "execution_count": 57,
   "metadata": {},
   "outputs": [
    {
     "data": {
      "text/plain": [
       "array([[80, 81, 82, 83, 84, 85, 86, 87, 88, 89, 90, 91, 92, 93, 94, 95,\n",
       "        96, 97, 98, 99]])"
      ]
     },
     "execution_count": 57,
     "metadata": {},
     "output_type": "execute_result"
    }
   ],
   "source": [
    "# access last position of row and all column\n",
    "B[-1:]"
   ]
  },
  {
   "cell_type": "markdown",
   "metadata": {},
   "source": [
    "#### **access value at column**"
   ]
  },
  {
   "cell_type": "code",
   "execution_count": 58,
   "metadata": {},
   "outputs": [
    {
     "data": {
      "text/plain": [
       "array([[ 0,  1,  2,  3,  4,  5,  6,  7,  8,  9, 10, 11, 12, 13, 14, 15,\n",
       "        16, 17, 18, 19],\n",
       "       [20, 21, 22, 23, 24, 25, 26, 27, 28, 29, 30, 31, 32, 33, 34, 35,\n",
       "        36, 37, 38, 39],\n",
       "       [40, 41, 42, 43, 44, 45, 46, 47, 48, 49, 50, 51, 52, 53, 54, 55,\n",
       "        56, 57, 58, 59],\n",
       "       [60, 61, 62, 63, 64, 65, 66, 67, 68, 69, 70, 71, 72, 73, 74, 75,\n",
       "        76, 77, 78, 79],\n",
       "       [80, 81, 82, 83, 84, 85, 86, 87, 88, 89, 90, 91, 92, 93, 94, 95,\n",
       "        96, 97, 98, 99]])"
      ]
     },
     "execution_count": 58,
     "metadata": {},
     "output_type": "execute_result"
    }
   ],
   "source": [
    "B"
   ]
  },
  {
   "cell_type": "code",
   "execution_count": 59,
   "metadata": {},
   "outputs": [
    {
     "data": {
      "text/plain": [
       "array([ 1, 21, 41, 61, 81])"
      ]
     },
     "execution_count": 59,
     "metadata": {},
     "output_type": "execute_result"
    }
   ],
   "source": [
    "# access first column and all row\n",
    "B[:,1]"
   ]
  },
  {
   "cell_type": "code",
   "execution_count": 60,
   "metadata": {},
   "outputs": [
    {
     "data": {
      "text/plain": [
       "array([[ 1,  2,  3],\n",
       "       [21, 22, 23],\n",
       "       [41, 42, 43],\n",
       "       [61, 62, 63],\n",
       "       [81, 82, 83]])"
      ]
     },
     "execution_count": 60,
     "metadata": {},
     "output_type": "execute_result"
    }
   ],
   "source": [
    "# access column 1 to 4 and all row\n",
    "B[:,1:4]"
   ]
  },
  {
   "cell_type": "code",
   "execution_count": 61,
   "metadata": {},
   "outputs": [
    {
     "data": {
      "text/plain": [
       "array([[ 1,  3,  5,  7,  9, 11, 13, 15, 17, 19],\n",
       "       [21, 23, 25, 27, 29, 31, 33, 35, 37, 39],\n",
       "       [41, 43, 45, 47, 49, 51, 53, 55, 57, 59],\n",
       "       [61, 63, 65, 67, 69, 71, 73, 75, 77, 79],\n",
       "       [81, 83, 85, 87, 89, 91, 93, 95, 97, 99]])"
      ]
     },
     "execution_count": 61,
     "metadata": {},
     "output_type": "execute_result"
    }
   ],
   "source": [
    "# access column 1 to end and step size = 2 and all row\n",
    "B[:,1::2]"
   ]
  },
  {
   "cell_type": "markdown",
   "metadata": {},
   "source": [
    "#### **access value and column at column**"
   ]
  },
  {
   "cell_type": "code",
   "execution_count": 62,
   "metadata": {},
   "outputs": [
    {
     "data": {
      "text/plain": [
       "array([[ 0,  1,  2,  3,  4,  5,  6,  7,  8,  9, 10, 11, 12, 13, 14, 15,\n",
       "        16, 17, 18, 19],\n",
       "       [20, 21, 22, 23, 24, 25, 26, 27, 28, 29, 30, 31, 32, 33, 34, 35,\n",
       "        36, 37, 38, 39],\n",
       "       [40, 41, 42, 43, 44, 45, 46, 47, 48, 49, 50, 51, 52, 53, 54, 55,\n",
       "        56, 57, 58, 59],\n",
       "       [60, 61, 62, 63, 64, 65, 66, 67, 68, 69, 70, 71, 72, 73, 74, 75,\n",
       "        76, 77, 78, 79],\n",
       "       [80, 81, 82, 83, 84, 85, 86, 87, 88, 89, 90, 91, 92, 93, 94, 95,\n",
       "        96, 97, 98, 99]])"
      ]
     },
     "execution_count": 62,
     "metadata": {},
     "output_type": "execute_result"
    }
   ],
   "source": [
    "B"
   ]
  },
  {
   "cell_type": "code",
   "execution_count": 63,
   "metadata": {},
   "outputs": [
    {
     "data": {
      "text/plain": [
       "array([[ 0,  1,  2,  3,  4,  5,  6,  7,  8,  9, 10, 11, 12, 13, 14, 15,\n",
       "        16, 17, 18, 19],\n",
       "       [20, 21, 22, 23, 24, 25, 26, 27, 28, 29, 30, 31, 32, 33, 34, 35,\n",
       "        36, 37, 38, 39],\n",
       "       [40, 41, 42, 43, 44, 45, 46, 47, 48, 49, 50, 51, 52, 53, 54, 55,\n",
       "        56, 57, 58, 59],\n",
       "       [60, 61, 62, 63, 64, 65, 66, 67, 68, 69, 70, 71, 72, 73, 74, 75,\n",
       "        76, 77, 78, 79],\n",
       "       [80, 81, 82, 83, 84, 85, 86, 87, 88, 89, 90, 91, 92, 93, 94, 95,\n",
       "        96, 97, 98, 99]])"
      ]
     },
     "execution_count": 63,
     "metadata": {},
     "output_type": "execute_result"
    }
   ],
   "source": [
    "# access all row and all column\n",
    "B[:,:]\n"
   ]
  },
  {
   "cell_type": "code",
   "execution_count": 64,
   "metadata": {},
   "outputs": [
    {
     "data": {
      "text/plain": [
       "array([[41, 42, 43],\n",
       "       [61, 62, 63],\n",
       "       [81, 82, 83]])"
      ]
     },
     "execution_count": 64,
     "metadata": {},
     "output_type": "execute_result"
    }
   ],
   "source": [
    "# access row 2 to end and column 1 to 4\n",
    "B[2:, 1:4]\n"
   ]
  },
  {
   "cell_type": "code",
   "execution_count": 65,
   "metadata": {},
   "outputs": [
    {
     "data": {
      "text/plain": [
       "array([[ 2],\n",
       "       [22],\n",
       "       [42],\n",
       "       [62],\n",
       "       [82]])"
      ]
     },
     "execution_count": 65,
     "metadata": {},
     "output_type": "execute_result"
    }
   ],
   "source": [
    "# access row 0 to end and column 2 to 5 step = 3\n",
    "B[:, 2:5:3]"
   ]
  },
  {
   "cell_type": "markdown",
   "metadata": {},
   "source": [
    "#### Summary\n",
    "- Colon (:): Used to specify a range of indices within a single dimension. You can use start:stop:step to define the range.\n",
    "- Comma (,): Used to separate slice notations for different dimensions. This allows you to slice multidimensional arrays by specifying ranges for each dimension individually."
   ]
  },
  {
   "cell_type": "markdown",
   "metadata": {},
   "source": [
    "## How to find position od data in numpyarray\n",
    "## **np.where**\n",
    "- np.where(condition, [x, y, ]/)\n",
    "- Return elements chosen from x or y depending on condition."
   ]
  },
  {
   "cell_type": "code",
   "execution_count": 76,
   "metadata": {},
   "outputs": [
    {
     "data": {
      "text/plain": [
       "array([0, 1, 2, 3, 4, 5, 6, 7, 8, 9])"
      ]
     },
     "execution_count": 76,
     "metadata": {},
     "output_type": "execute_result"
    }
   ],
   "source": [
    "A = np.arange(10)\n",
    "A"
   ]
  },
  {
   "cell_type": "code",
   "execution_count": 77,
   "metadata": {},
   "outputs": [
    {
     "data": {
      "text/plain": [
       "(array([0, 2, 4, 6, 8], dtype=int64),)"
      ]
     },
     "execution_count": 77,
     "metadata": {},
     "output_type": "execute_result"
    }
   ],
   "source": [
    "np.where(A % 2 == 0)\n"
   ]
  },
  {
   "cell_type": "code",
   "execution_count": null,
   "metadata": {},
   "outputs": [],
   "source": []
  },
  {
   "cell_type": "markdown",
   "metadata": {},
   "source": [
    "## How to sort numpy array\n",
    "### **np.sort**\n",
    "- np.sort(a, axis=-1, kind=None, order=None, *, stable=None)\n",
    "- Return a sorted copy of an array."
   ]
  },
  {
   "cell_type": "code",
   "execution_count": 67,
   "metadata": {},
   "outputs": [],
   "source": [
    "#np.sort?"
   ]
  },
  {
   "cell_type": "code",
   "execution_count": 68,
   "metadata": {},
   "outputs": [
    {
     "data": {
      "text/plain": [
       "array([[ 59,  70,  43,  42,  34],\n",
       "       [ 80,  66,  70, 100,  58],\n",
       "       [ 45,  53,  43,  74,  31],\n",
       "       [ 18,  64,  42,  39,  18],\n",
       "       [ 79,  38,  55,  16,  89],\n",
       "       [  8,   1,  81,  13,  56],\n",
       "       [ 39,  53,  21,  92,  93],\n",
       "       [ 11,  10,  89,  76,  37],\n",
       "       [ 60,  27,  29,  50,  52],\n",
       "       [ 56,  70,  68,  34,  47]])"
      ]
     },
     "execution_count": 68,
     "metadata": {},
     "output_type": "execute_result"
    }
   ],
   "source": [
    "B = np.random.randint(1, 101, size = 50).reshape(10, 5)\n",
    "B\n"
   ]
  },
  {
   "cell_type": "code",
   "execution_count": 69,
   "metadata": {},
   "outputs": [
    {
     "data": {
      "text/plain": [
       "array([[  8,   1,  21,  13,  18],\n",
       "       [ 11,  10,  29,  16,  31],\n",
       "       [ 18,  27,  42,  34,  34],\n",
       "       [ 39,  38,  43,  39,  37],\n",
       "       [ 45,  53,  43,  42,  47],\n",
       "       [ 56,  53,  55,  50,  52],\n",
       "       [ 59,  64,  68,  74,  56],\n",
       "       [ 60,  66,  70,  76,  58],\n",
       "       [ 79,  70,  81,  92,  89],\n",
       "       [ 80,  70,  89, 100,  93]])"
      ]
     },
     "execution_count": 69,
     "metadata": {},
     "output_type": "execute_result"
    }
   ],
   "source": [
    "# axis = 0 -> sort by column\n",
    "C = np.sort(B, axis=0)\n",
    "C"
   ]
  },
  {
   "cell_type": "code",
   "execution_count": 70,
   "metadata": {},
   "outputs": [
    {
     "data": {
      "text/plain": [
       "array([[ 34,  42,  43,  59,  70],\n",
       "       [ 58,  66,  70,  80, 100],\n",
       "       [ 31,  43,  45,  53,  74],\n",
       "       [ 18,  18,  39,  42,  64],\n",
       "       [ 16,  38,  55,  79,  89],\n",
       "       [  1,   8,  13,  56,  81],\n",
       "       [ 21,  39,  53,  92,  93],\n",
       "       [ 10,  11,  37,  76,  89],\n",
       "       [ 27,  29,  50,  52,  60],\n",
       "       [ 34,  47,  56,  68,  70]])"
      ]
     },
     "execution_count": 70,
     "metadata": {},
     "output_type": "execute_result"
    }
   ],
   "source": [
    "# axis = 1 -> sort by row\n",
    "D = np.sort(B, axis=1)\n",
    "D"
   ]
  },
  {
   "cell_type": "code",
   "execution_count": 71,
   "metadata": {},
   "outputs": [
    {
     "name": "stdout",
     "output_type": "stream",
     "text": [
      "Original Array:\n",
      "[[ 59  70  43  42  34]\n",
      " [ 80  66  70 100  58]\n",
      " [ 45  53  43  74  31]\n",
      " [ 18  64  42  39  18]\n",
      " [ 79  38  55  16  89]\n",
      " [  8   1  81  13  56]\n",
      " [ 39  53  21  92  93]\n",
      " [ 11  10  89  76  37]\n",
      " [ 60  27  29  50  52]\n",
      " [ 56  70  68  34  47]]\n",
      "\n",
      "Sorted Array (Heapsort):\n",
      "\n",
      "[[ 34  42  43  59  70]\n",
      " [ 58  66  70  80 100]\n",
      " [ 31  43  45  53  74]\n",
      " [ 18  18  39  42  64]\n",
      " [ 16  38  55  79  89]\n",
      " [  1   8  13  56  81]\n",
      " [ 21  39  53  92  93]\n",
      " [ 10  11  37  76  89]\n",
      " [ 27  29  50  52  60]\n",
      " [ 34  47  56  68  70]]\n"
     ]
    }
   ],
   "source": [
    "# Sort using heapsort\n",
    "sorted_array = np.sort(B, kind='heapsort')\n",
    "\n",
    "print(\"Original Array:\")\n",
    "print(B)\n",
    "print(\"\\nSorted Array (Heapsort):\\n\")\n",
    "print(sorted_array)"
   ]
  }
 ],
 "metadata": {
  "kernelspec": {
   "display_name": "Python 3 (ipykernel)",
   "language": "python",
   "name": "python3"
  },
  "language_info": {
   "codemirror_mode": {
    "name": "ipython",
    "version": 3
   },
   "file_extension": ".py",
   "mimetype": "text/x-python",
   "name": "python",
   "nbconvert_exporter": "python",
   "pygments_lexer": "ipython3",
   "version": "3.10.9"
  }
 },
 "nbformat": 4,
 "nbformat_minor": 2
}
