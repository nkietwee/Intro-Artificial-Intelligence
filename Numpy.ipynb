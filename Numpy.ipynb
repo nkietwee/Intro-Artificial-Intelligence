{
 "cells": [
  {
   "cell_type": "markdown",
   "metadata": {},
   "source": [
    "## **Numpy**\n",
    "\n",
    "    NumPy is the fundamental package for scientific computing in Python. It is a Pythonlibrary that provides a multidimensional array object, various derived objects (such as masked arrays and matrices), and an assortment of routines for fast operations on arrays, including mathematical, logical, shape manipulation, sorting, selecting, I/O, discrete Fourier transforms, basic linear algebra, basic statistical operations, random simulation and much more.\n",
    "[https://numpy.org/doc/stable/user/whatisnumpy.html]"
   ]
  },
  {
   "cell_type": "code",
   "execution_count": 1,
   "metadata": {},
   "outputs": [],
   "source": [
    "import numpy as np\n",
    "import matplotlib.pyplot as plt # for plot graph"
   ]
  },
  {
   "cell_type": "markdown",
   "metadata": {},
   "source": [
    "## **How to create numpy array**\n",
    "- **np.array**\n",
    "- **np.arrange**\n",
    "- **np.zeros**\n",
    "- **np.random.randn**\n",
    "- **np.random.randint**\n",
    "- **np.random.permutation**"
   ]
  },
  {
   "cell_type": "code",
   "execution_count": 109,
   "metadata": {},
   "outputs": [],
   "source": [
    "# If I forgot what is function do , I can type [function?]\n",
    "# such as\n",
    "# np.array?"
   ]
  },
  {
   "cell_type": "markdown",
   "metadata": {},
   "source": [
    "**np.array**\n",
    "- np.array(object, dtype=None, *, copy=True, order='K', subok=False, ndmin=0, like=None)\n",
    "- Create an array from data type (i.e list , tuple and etc) to numpy array"
   ]
  },
  {
   "cell_type": "code",
   "execution_count": 3,
   "metadata": {},
   "outputs": [
    {
     "name": "stdout",
     "output_type": "stream",
     "text": [
      "[1 2 3 4 5]\n",
      "<class 'numpy.ndarray'>\n",
      "int32\n"
     ]
    }
   ],
   "source": [
    "# conversion from list to NumPy arrays\n",
    "a = np.array([1, 2, 3, 4, 5])\n",
    "print(a)\n",
    "print(type(a))\n",
    "print(a.dtype)"
   ]
  },
  {
   "cell_type": "code",
   "execution_count": 4,
   "metadata": {},
   "outputs": [
    {
     "name": "stdout",
     "output_type": "stream",
     "text": [
      "[ 6  7  8  9 10]\n",
      "<class 'numpy.ndarray'>\n",
      "int32\n"
     ]
    }
   ],
   "source": [
    "# conversion from tuples to NumPy arrays\n",
    "a = np.array((6, 7, 8, 9, 10))\n",
    "print(a)\n",
    "print(type(a))\n",
    "print(a.dtype)"
   ]
  },
  {
   "cell_type": "code",
   "execution_count": 5,
   "metadata": {},
   "outputs": [
    {
     "name": "stdout",
     "output_type": "stream",
     "text": [
      "[6 list([7]) 8 9 10]\n",
      "<class 'numpy.ndarray'>\n",
      "object\n"
     ]
    },
    {
     "name": "stderr",
     "output_type": "stream",
     "text": [
      "C:\\Users\\Nawaporn.k\\AppData\\Local\\Temp\\ipykernel_18548\\1770930003.py:2: VisibleDeprecationWarning: Creating an ndarray from ragged nested sequences (which is a list-or-tuple of lists-or-tuples-or ndarrays with different lengths or shapes) is deprecated. If you meant to do this, you must specify 'dtype=object' when creating the ndarray.\n",
      "  a = np.array((6, [7], 8, 9, 10))\n"
     ]
    }
   ],
   "source": [
    "# If I add many data type in np.array, It convert to object\n",
    "a = np.array((6, [7], 8, 9, 10))\n",
    "print(a)\n",
    "print(type(a))\n",
    "print(a.dtype)\n",
    "# This means that a is a numpy array where each element is stored as an object.\n",
    "# This is not typical for numerical arrays, as it loses some of the performance\n",
    "# and memory efficiency benefits of using numpy arrays with homogeneous data types. "
   ]
  },
  {
   "cell_type": "code",
   "execution_count": 6,
   "metadata": {},
   "outputs": [
    {
     "name": "stdout",
     "output_type": "stream",
     "text": [
      "[1 2 3 5 7]\n",
      "<class 'numpy.ndarray'>\n",
      "int32\n",
      "____________________\n",
      "[1. 2. 3. 5. 7.]\n",
      "<class 'numpy.ndarray'>\n",
      "float32\n"
     ]
    }
   ],
   "source": [
    "# Information for dtype(data type) [https://numpy.org/doc/stable/user/basics.types.html]\n",
    "a = np.array([1, 2, 3, 5, 7], dtype='i')\n",
    "print(a)\n",
    "print(type(a))\n",
    "print(a.dtype)\n",
    "\n",
    "print('____________________')\n",
    "\n",
    "b = np.array([1, 2, 3, 5, 7], dtype='f')\n",
    "print(b)\n",
    "print(type(b))\n",
    "print(b.dtype)"
   ]
  },
  {
   "cell_type": "code",
   "execution_count": 7,
   "metadata": {},
   "outputs": [
    {
     "name": "stdout",
     "output_type": "stream",
     "text": [
      "[[1 2 3]\n",
      " [4 5 6]]\n",
      "<class 'numpy.ndarray'>\n",
      "int32\n",
      "2\n",
      "(2, 3)\n"
     ]
    }
   ],
   "source": [
    "a = np.array([[1, 2, 3], [4, 5, 6]])\n",
    "print(a)\n",
    "print(type(a))\n",
    "print(a.dtype)\n",
    "print(a.ndim)\n",
    "print(a.shape)\n"
   ]
  },
  {
   "cell_type": "code",
   "execution_count": 8,
   "metadata": {},
   "outputs": [
    {
     "name": "stderr",
     "output_type": "stream",
     "text": [
      "C:\\Users\\Nawaporn.k\\AppData\\Local\\Temp\\ipykernel_18548\\1201062784.py:2: VisibleDeprecationWarning: Creating an ndarray from ragged nested sequences (which is a list-or-tuple of lists-or-tuples-or ndarrays with different lengths or shapes) is deprecated. If you meant to do this, you must specify 'dtype=object' when creating the ndarray.\n",
      "  a = np.array([[1, 2, 3, 4], [4, 5, 6]])\n"
     ]
    }
   ],
   "source": [
    "# It should be equal all dimension\n",
    "a = np.array([[1, 2, 3, 4], [4, 5, 6]])"
   ]
  },
  {
   "cell_type": "code",
   "execution_count": 9,
   "metadata": {},
   "outputs": [
    {
     "name": "stdout",
     "output_type": "stream",
     "text": [
      "3\n",
      "(2, 2, 2)\n"
     ]
    }
   ],
   "source": [
    "a = np.array([[[1, 2], [3, 4]], [[5, 6], [7, 8]]])\n",
    "print(a.ndim)\n",
    "print(a.shape)"
   ]
  },
  {
   "cell_type": "markdown",
   "metadata": {},
   "source": [
    "**c is a 3D array:**\n",
    "- The first dimension (or axis) has 2 elements: [[1, 2], [3, 4]] and [[5, 6], [7, 8]].\n",
    "- The second dimension (or axis) also has 2 elements: [1, 2] and [3, 4] within each sub-array.\n",
    "- The third dimension (or axis) has 2 elements: 1 and 2 within each sub-sub-array."
   ]
  },
  {
   "cell_type": "markdown",
   "metadata": {},
   "source": [
    "**How to access value**\n",
    "- Bracket Indexing ([][] notation):\n",
    "- Comma-Separated Indices ([,] notation):\n"
   ]
  },
  {
   "cell_type": "code",
   "execution_count": 10,
   "metadata": {},
   "outputs": [
    {
     "data": {
      "text/plain": [
       "array([[ 1,  2,  3,  4,  5],\n",
       "       [ 6,  7,  8,  9, 10]])"
      ]
     },
     "execution_count": 10,
     "metadata": {},
     "output_type": "execute_result"
    }
   ],
   "source": [
    "a = np.array([[1, 2, 3, 4, 5] ,[6, 7, 8, 9, 10]])\n",
    "a"
   ]
  },
  {
   "cell_type": "code",
   "execution_count": 11,
   "metadata": {},
   "outputs": [
    {
     "data": {
      "text/plain": [
       "2"
      ]
     },
     "execution_count": 11,
     "metadata": {},
     "output_type": "execute_result"
    }
   ],
   "source": [
    "# Bracket Indexing ([][] notation):\n",
    "a[0][1] # [0] first row [1] second column"
   ]
  },
  {
   "cell_type": "code",
   "execution_count": 12,
   "metadata": {},
   "outputs": [
    {
     "data": {
      "text/plain": [
       "2"
      ]
     },
     "execution_count": 12,
     "metadata": {},
     "output_type": "execute_result"
    }
   ],
   "source": [
    "# Comma-Separated Indices ([,] notation):\n",
    "a[0, 1] # [0] first row [1] second column"
   ]
  },
  {
   "cell_type": "code",
   "execution_count": 13,
   "metadata": {},
   "outputs": [],
   "source": [
    "a = np.array([[[1], [2], [3]], [[4], [5], [6]]])\n",
    "b = np.array([[1, 2, 3], [4, 5, 6]])"
   ]
  },
  {
   "cell_type": "code",
   "execution_count": 14,
   "metadata": {},
   "outputs": [
    {
     "name": "stdout",
     "output_type": "stream",
     "text": [
      "Array a:\n",
      "[[[1]\n",
      "  [2]\n",
      "  [3]]\n",
      "\n",
      " [[4]\n",
      "  [5]\n",
      "  [6]]]\n",
      "Shape of a: (2, 3, 1)\n",
      "Dimension : 3\n",
      "Type :  int32\n",
      "\n",
      "Array b:\n",
      "[[1 2 3]\n",
      " [4 5 6]]\n",
      "Shape of b: (2, 3)\n",
      "Dimension : 2\n",
      "Type :  int32\n"
     ]
    }
   ],
   "source": [
    "print(\"Array a:\") # like rgb\n",
    "print(a)\n",
    "print(\"Shape of a:\", a.shape)\n",
    "print(\"Dimension :\", a.ndim)\n",
    "print(\"Type : \", a.dtype)\n",
    "print(\"\")\n",
    "\n",
    "# Array b\n",
    "print(\"Array b:\")\n",
    "print(b)\n",
    "print(\"Shape of b:\", b.shape)\n",
    "print(\"Dimension :\", b.ndim)\n",
    "print(\"Type : \", b.dtype)"
   ]
  },
  {
   "cell_type": "code",
   "execution_count": 15,
   "metadata": {},
   "outputs": [
    {
     "name": "stdout",
     "output_type": "stream",
     "text": [
      "3\n",
      "<class 'numpy.ndarray'>\n",
      "int32\n"
     ]
    }
   ],
   "source": [
    "# ??\n",
    "a = np.array(3)\n",
    "print(a)\n",
    "print(type(a))\n",
    "print(a.dtype)\n"
   ]
  },
  {
   "cell_type": "markdown",
   "metadata": {},
   "source": [
    "**np.arange**\n",
    "\n",
    "- np.arange([start, ]stop, [step, ]dtype=None, *, device=None, like=None)\n",
    "- Return evenly spaced values within a given interval.\n"
   ]
  },
  {
   "cell_type": "code",
   "execution_count": 16,
   "metadata": {},
   "outputs": [],
   "source": [
    "# np.arange?"
   ]
  },
  {
   "cell_type": "code",
   "execution_count": 17,
   "metadata": {},
   "outputs": [],
   "source": [
    "a = np.arange(5) # (stop)"
   ]
  },
  {
   "cell_type": "code",
   "execution_count": 18,
   "metadata": {},
   "outputs": [
    {
     "data": {
      "text/plain": [
       "array([0, 1, 2, 3, 4])"
      ]
     },
     "execution_count": 18,
     "metadata": {},
     "output_type": "execute_result"
    }
   ],
   "source": [
    "# a: Displays the array a in a format suitable for direct inspection \n",
    "# in an interactive session. In Jupyter notebooks, it typically formats \n",
    "# the array in a neat, readable manner.\n",
    "a"
   ]
  },
  {
   "cell_type": "code",
   "execution_count": 19,
   "metadata": {},
   "outputs": [
    {
     "name": "stdout",
     "output_type": "stream",
     "text": [
      "[0 1 2 3 4]\n"
     ]
    }
   ],
   "source": [
    "# print(a): Prints the array a explicitly using the print() function,\n",
    "# which may result in a slightly different formatting, especially when\n",
    "# printing multiple arrays or when mixed with other output.\n",
    "print(a)"
   ]
  },
  {
   "cell_type": "code",
   "execution_count": 20,
   "metadata": {},
   "outputs": [
    {
     "name": "stdout",
     "output_type": "stream",
     "text": [
      "[20 21 22 23 24 25 26 27 28 29]\n"
     ]
    }
   ],
   "source": [
    "b = np.arange(20, 30) # (start, stop)\n",
    "print(b)"
   ]
  },
  {
   "cell_type": "code",
   "execution_count": 21,
   "metadata": {},
   "outputs": [
    {
     "name": "stdout",
     "output_type": "stream",
     "text": [
      "[20 22 24 26 28]\n"
     ]
    }
   ],
   "source": [
    "c = np.arange(20, 30, 2) # (start, stop, step)\n",
    "print(c)"
   ]
  },
  {
   "cell_type": "code",
   "execution_count": 22,
   "metadata": {},
   "outputs": [
    {
     "name": "stdout",
     "output_type": "stream",
     "text": [
      "range(0, 10)\n"
     ]
    }
   ],
   "source": [
    "# When you use print(range(10)), it displays range(0, 10)\n",
    "# because range is a special type of sequence object\n",
    "# that represents a range of numbers. To see the actual numbers,\n",
    "# you need to convert the range object to a list or iterate through it.\n",
    "# This approach provides memory efficiency and performance benefits,\n",
    "# especially for large ranges.\n",
    "print(range(10))"
   ]
  },
  {
   "cell_type": "code",
   "execution_count": 23,
   "metadata": {},
   "outputs": [
    {
     "data": {
      "text/plain": [
       "range"
      ]
     },
     "execution_count": 23,
     "metadata": {},
     "output_type": "execute_result"
    }
   ],
   "source": [
    "type(range(10))"
   ]
  },
  {
   "cell_type": "markdown",
   "metadata": {},
   "source": [
    "**np.zeros**\n",
    "- numpy.zeros(shape, dtype=float, order='C', *, like=None)\n",
    "- Return a new array of given shape and type, filled with zeros."
   ]
  },
  {
   "cell_type": "code",
   "execution_count": 113,
   "metadata": {},
   "outputs": [],
   "source": [
    "# np.zeros?"
   ]
  },
  {
   "cell_type": "code",
   "execution_count": 121,
   "metadata": {},
   "outputs": [
    {
     "data": {
      "text/plain": [
       "array([0., 0., 0., 0., 0.])"
      ]
     },
     "execution_count": 121,
     "metadata": {},
     "output_type": "execute_result"
    }
   ],
   "source": [
    "# default datatype is float\n",
    "a = np.zeros(5)\n",
    "a"
   ]
  },
  {
   "cell_type": "code",
   "execution_count": 118,
   "metadata": {},
   "outputs": [
    {
     "data": {
      "text/plain": [
       "array([0, 0, 0, 0, 0, 0, 0, 0, 0, 0])"
      ]
     },
     "execution_count": 118,
     "metadata": {},
     "output_type": "execute_result"
    }
   ],
   "source": [
    "a = np.zeros(10, dtype=int)\n",
    "a"
   ]
  },
  {
   "cell_type": "markdown",
   "metadata": {},
   "source": [
    "**np.ones**\n",
    " - numpy.ones(shape, dtype=None, order='C', *, device=None, like=None)\n",
    " - Return a new array of given shape and type, filled with ones."
   ]
  },
  {
   "cell_type": "code",
   "execution_count": 119,
   "metadata": {},
   "outputs": [],
   "source": [
    "# np.ones?"
   ]
  },
  {
   "cell_type": "code",
   "execution_count": 122,
   "metadata": {},
   "outputs": [
    {
     "data": {
      "text/plain": [
       "array([1., 1., 1., 1., 1.])"
      ]
     },
     "execution_count": 122,
     "metadata": {},
     "output_type": "execute_result"
    }
   ],
   "source": [
    "a = np.ones(5)\n",
    "a"
   ]
  },
  {
   "cell_type": "code",
   "execution_count": 125,
   "metadata": {},
   "outputs": [
    {
     "data": {
      "text/plain": [
       "array([1, 1, 1, 1, 1, 1, 1, 1, 1, 1])"
      ]
     },
     "execution_count": 125,
     "metadata": {},
     "output_type": "execute_result"
    }
   ],
   "source": [
    "a = np.ones(10, dtype=int)\n",
    "a"
   ]
  },
  {
   "cell_type": "markdown",
   "metadata": {},
   "source": [
    "**np.random**\n",
    "- **np.random.rand**\n",
    "- **np.reshape**\n",
    "- **np.random.randn**\n",
    "- **np.random.randint**\n",
    "- **np.random.permutation**"
   ]
  },
  {
   "cell_type": "markdown",
   "metadata": {},
   "source": [
    "**np.random.rand**\n",
    "- np.random.rand(d0, d1, ..., dn)\n",
    "- Random values between 0 and 1 in a given shape\n"
   ]
  },
  {
   "cell_type": "code",
   "execution_count": 24,
   "metadata": {},
   "outputs": [],
   "source": [
    "# np.random.rand.rand?"
   ]
  },
  {
   "cell_type": "code",
   "execution_count": 25,
   "metadata": {},
   "outputs": [
    {
     "name": "stdout",
     "output_type": "stream",
     "text": [
      "[0.72293381 0.9447299  0.24348501 0.83380593 0.09990234 0.88910796\n",
      " 0.00294177 0.93434735 0.04385949 0.72244182 0.02984169 0.94069076\n",
      " 0.37682063 0.32314652 0.19524854 0.57761865 0.71386524 0.16902937\n",
      " 0.60048684 0.34826217 0.52672711 0.16602356 0.38235747 0.33074203\n",
      " 0.43425493 0.71797096 0.68656634 0.67710344 0.82054123 0.86969241\n",
      " 0.34374775 0.14935516 0.69790602 0.8041223  0.85374214 0.73661173\n",
      " 0.9749548  0.55529696 0.14931463 0.49406765 0.99625749 0.38584271\n",
      " 0.3529812  0.56456023 0.88085572 0.21545167 0.92508626 0.99959404\n",
      " 0.18881234 0.31919655 0.42933771 0.36265833 0.12786837 0.95674094\n",
      " 0.07563476 0.22517068 0.21354633 0.41670736 0.3258156  0.20316241\n",
      " 0.16172928 0.50212046 0.28814291 0.41592542 0.87357666 0.4943928\n",
      " 0.21408405 0.82493494 0.10060741 0.91286203 0.19695829 0.85333787\n",
      " 0.54809223 0.35419782 0.41613258 0.76817645 0.75374529 0.19148508\n",
      " 0.49367234 0.26398717 0.22911211 0.82196608 0.27424521 0.14187195\n",
      " 0.7819553  0.0697932  0.54643265 0.75194227 0.79099974 0.01156059\n",
      " 0.33499629 0.00632804 0.10977766 0.21708931 0.97860576 0.78121581\n",
      " 0.55460568 0.90783448 0.56715063 0.80987086]\n"
     ]
    }
   ],
   "source": [
    "a = np.random.rand(100)\n",
    "print(a)"
   ]
  },
  {
   "cell_type": "code",
   "execution_count": 26,
   "metadata": {},
   "outputs": [
    {
     "data": {
      "text/plain": [
       "(array([ 9., 12., 11., 13.,  8., 10.,  3., 11., 12., 11.]),\n",
       " array([0.00294177, 0.10260699, 0.20227222, 0.30193745, 0.40160268,\n",
       "        0.5012679 , 0.60093313, 0.70059836, 0.80026359, 0.89992881,\n",
       "        0.99959404]),\n",
       " <BarContainer object of 10 artists>)"
      ]
     },
     "execution_count": 26,
     "metadata": {},
     "output_type": "execute_result"
    },
    {
     "data": {
      "image/png": "[encoded data removed]",
      "text/plain": [
       "<Figure size 640x480 with 1 Axes>"
      ]
     },
     "metadata": {},
     "output_type": "display_data"
    }
   ],
   "source": [
    "plt.hist(a)"
   ]
  },
  {
   "cell_type": "code",
   "execution_count": 27,
   "metadata": {},
   "outputs": [
    {
     "name": "stdout",
     "output_type": "stream",
     "text": [
      "[[0.59680067 0.93112839 0.7410849 ]\n",
      " [0.40616549 0.98909438 0.26295372]]\n"
     ]
    }
   ],
   "source": [
    "b = np.random.rand(2, 3)\n",
    "print(b)"
   ]
  },
  {
   "cell_type": "code",
   "execution_count": 28,
   "metadata": {},
   "outputs": [
    {
     "name": "stdout",
     "output_type": "stream",
     "text": [
      "[[[0.17405474 0.3491292  0.78302851 0.46103916]\n",
      "  [0.77891725 0.89792615 0.02796582 0.38740707]\n",
      "  [0.37904163 0.59742913 0.2018472  0.33706511]]\n",
      "\n",
      " [[0.95545111 0.45280359 0.51889028 0.91073921]\n",
      "  [0.38197617 0.67869379 0.88636287 0.42592864]\n",
      "  [0.8238754  0.01571807 0.25988041 0.56479007]]]\n"
     ]
    }
   ],
   "source": [
    "b = np.random.rand(2, 3, 4)\n",
    "print(b)"
   ]
  },
  {
   "cell_type": "markdown",
   "metadata": {},
   "source": [
    "**np.random.randn**\n",
    "- random.randn(d0, d1, ..., dn)\n",
    "- Return a sample (or samples) from the “standard normal” distribution."
   ]
  },
  {
   "cell_type": "code",
   "execution_count": 29,
   "metadata": {},
   "outputs": [],
   "source": [
    "# np.random.randn?"
   ]
  },
  {
   "cell_type": "code",
   "execution_count": 30,
   "metadata": {},
   "outputs": [
    {
     "name": "stdout",
     "output_type": "stream",
     "text": [
      "[-0.77273946  1.39290389  0.545329   -2.10670235 -0.51325156 -1.39106081\n",
      "  0.464903   -0.15582709  0.57408511  0.01866741]\n"
     ]
    }
   ],
   "source": [
    "A = np.random.randn(10)\n",
    "print(A)"
   ]
  },
  {
   "cell_type": "code",
   "execution_count": 31,
   "metadata": {},
   "outputs": [
    {
     "name": "stdout",
     "output_type": "stream",
     "text": [
      "[ 0.41125618  0.3774468  -0.13386366 -2.20753524  0.46478855 -0.71980548\n",
      "  0.4162026  -2.02875019  0.20592062  0.26952431  1.16411955 -0.07609043\n",
      " -0.49931766  1.0505464   0.45653091  0.56683224 -0.99349542  2.19244833\n",
      "  1.23072747 -0.16821168 -1.79161573 -0.61359507 -0.0494717  -0.24725706\n",
      " -0.18125572  0.1767073   0.24770603 -0.57723666  0.1718452   0.484566\n",
      "  0.25758384  0.82599317  0.31805277  0.61501583 -1.12069587  1.32729457\n",
      "  0.07035807  0.31221159 -1.15857826  0.5210717   0.51792027  0.91498279\n",
      "  0.85459564  0.26058662  1.67129391 -0.5470531   1.41847552  1.09157102\n",
      " -0.19617541 -0.68419059  0.37001095 -1.13249142  0.46931758  0.38811761\n",
      " -1.13228648  0.84881304  1.16374614 -1.04381229  0.49547305  1.67316911\n",
      "  0.67001705 -0.01589118 -2.1561807   1.48040554 -0.73834917  0.58431165\n",
      "  0.59470072  0.95131442 -0.95314418  0.75781739 -0.27576496  0.9224484\n",
      "  0.40863553 -0.46086744 -1.27323242 -0.70580645  1.38461721 -0.90931794\n",
      " -1.00563511 -2.27851129  0.69706989  1.1449389  -0.45931678  1.67765815\n",
      "  0.65176069  1.27405203  0.2064829   0.49992597 -0.04669317 -0.74341115\n",
      " -0.89040546  0.47357637  1.01243326 -0.37126816 -1.36678965  0.58436336\n",
      " -1.47661231 -0.55452899  0.69216766  0.44870665]\n"
     ]
    }
   ],
   "source": [
    "A = np.random.randn(100)\n",
    "print(A)"
   ]
  },
  {
   "cell_type": "markdown",
   "metadata": {},
   "source": [
    "**np.reshape**\n",
    "- numpy.reshape(a, newshape, order='C')[source]\n",
    "- Gives a new shape to an array without changing its data."
   ]
  },
  {
   "cell_type": "markdown",
   "metadata": {},
   "source": [
    "**How to reshape numpy array**\n",
    "- add reshape to numpy array\n",
    "- It must have variable for recieve reshape function\n"
   ]
  },
  {
   "cell_type": "code",
   "execution_count": 32,
   "metadata": {},
   "outputs": [
    {
     "name": "stdout",
     "output_type": "stream",
     "text": [
      "[[ 0.11693997 -2.14913847  0.35830305  1.78412116 -0.57192252]\n",
      " [-1.94818742  0.2077095  -0.13498847 -0.17224035  2.02044226]]\n"
     ]
    }
   ],
   "source": [
    "# add reshape to numpy array\n",
    "A = np.random.randn(10).reshape(2, 5)\n",
    "print(A)"
   ]
  },
  {
   "cell_type": "code",
   "execution_count": 33,
   "metadata": {},
   "outputs": [
    {
     "name": "stdout",
     "output_type": "stream",
     "text": [
      "[[ 0.11693997 -2.14913847  0.35830305  1.78412116 -0.57192252]\n",
      " [-1.94818742  0.2077095  -0.13498847 -0.17224035  2.02044226]]\n"
     ]
    }
   ],
   "source": [
    "# Due to reshape return new array ,so It must have variable for recieve reshape function\n",
    "A = A.reshape(2, 5)\n",
    "print(A)"
   ]
  },
  {
   "cell_type": "markdown",
   "metadata": {},
   "source": [
    "**np.random.randint**\n",
    "- random.randint(low, high=None, size=None, dtype=int)\n",
    "- Return random integers from low (inclusive) to high (exclusive)."
   ]
  },
  {
   "cell_type": "code",
   "execution_count": 34,
   "metadata": {},
   "outputs": [],
   "source": [
    "# np.random.randint?"
   ]
  },
  {
   "cell_type": "code",
   "execution_count": 35,
   "metadata": {},
   "outputs": [
    {
     "data": {
      "text/plain": [
       "13"
      ]
     },
     "execution_count": 35,
     "metadata": {},
     "output_type": "execute_result"
    }
   ],
   "source": [
    "np.random.randint(20) # (high)"
   ]
  },
  {
   "cell_type": "code",
   "execution_count": 36,
   "metadata": {},
   "outputs": [
    {
     "data": {
      "text/plain": [
       "25"
      ]
     },
     "execution_count": 36,
     "metadata": {},
     "output_type": "execute_result"
    }
   ],
   "source": [
    "np.random.randint(20, 30) # (low, high)"
   ]
  },
  {
   "cell_type": "markdown",
   "metadata": {},
   "source": [
    "**np.random.permutation**\n",
    "- np.random.permutation(x)\n",
    "- Randomly permute a sequence, or return a permuted range.\n",
    "    If x is an integer, randomly permute np.arange(x).\n",
    "    If x is an array, make a copy and shuffle the elements randomly."
   ]
  },
  {
   "cell_type": "code",
   "execution_count": 37,
   "metadata": {},
   "outputs": [],
   "source": [
    "# np.random.permutation?"
   ]
  },
  {
   "cell_type": "code",
   "execution_count": 38,
   "metadata": {},
   "outputs": [
    {
     "name": "stdout",
     "output_type": "stream",
     "text": [
      "[4 2 3 1 0]\n"
     ]
    }
   ],
   "source": [
    "A = np.random.permutation(5)\n",
    "print(A)"
   ]
  },
  {
   "cell_type": "code",
   "execution_count": 39,
   "metadata": {},
   "outputs": [
    {
     "name": "stdout",
     "output_type": "stream",
     "text": [
      "[2 0 3 1 4]\n"
     ]
    }
   ],
   "source": [
    "B = np.random.permutation(np.arange(5))\n",
    "print(B)"
   ]
  },
  {
   "cell_type": "markdown",
   "metadata": {},
   "source": [
    "## **How to slicing array** [https://www.tutorialspoint.com/accessing-data-along-multiple-dimensions-arrays-in-python-numpy]\n",
    "- **[start] [stop] [step]**\n",
    "- arr[start:stop]         # items start through stop-1\n",
    "- arr[start:]             # items start through the rest of the array\n",
    "- arr[:stop]              # items from the beginning through stop-1\n",
    "- arr[:]                  # a copy of the whole array\n",
    "- arr[start:stop:step]    # start through not past stop, by step"
   ]
  },
  {
   "cell_type": "markdown",
   "metadata": {},
   "source": [
    "**1D array**"
   ]
  },
  {
   "cell_type": "code",
   "execution_count": 40,
   "metadata": {},
   "outputs": [
    {
     "name": "stdout",
     "output_type": "stream",
     "text": [
      "[ 0  1  2  3  4  5  6  7  8  9 10 11 12 13 14 15 16 17 18 19 20 21 22 23\n",
      " 24 25 26 27 28 29 30 31 32 33 34 35 36 37 38 39 40 41 42 43 44 45 46 47\n",
      " 48 49 50 51 52 53 54 55 56 57 58 59 60 61 62 63 64 65 66 67 68 69 70 71\n",
      " 72 73 74 75 76 77 78 79 80 81 82 83 84 85 86 87 88 89 90 91 92 93 94 95\n",
      " 96 97 98 99]\n"
     ]
    }
   ],
   "source": [
    "A = np.arange(100)\n",
    "print(A)"
   ]
  },
  {
   "cell_type": "code",
   "execution_count": 41,
   "metadata": {},
   "outputs": [
    {
     "data": {
      "text/plain": [
       "5"
      ]
     },
     "execution_count": 41,
     "metadata": {},
     "output_type": "execute_result"
    }
   ],
   "source": [
    "A[5] # 5 is position "
   ]
  },
  {
   "cell_type": "code",
   "execution_count": 42,
   "metadata": {},
   "outputs": [
    {
     "data": {
      "text/plain": [
       "99"
      ]
     },
     "execution_count": 42,
     "metadata": {},
     "output_type": "execute_result"
    }
   ],
   "source": [
    "A[-1] # last position"
   ]
  },
  {
   "cell_type": "code",
   "execution_count": 43,
   "metadata": {},
   "outputs": [
    {
     "data": {
      "text/plain": [
       "array([2, 3, 4, 5, 6, 7, 8, 9])"
      ]
     },
     "execution_count": 43,
     "metadata": {},
     "output_type": "execute_result"
    }
   ],
   "source": [
    "A[2:10]\n",
    "# start is position 2\n",
    "# end is position 10\n",
    "# step each 1(default)"
   ]
  },
  {
   "cell_type": "code",
   "execution_count": 44,
   "metadata": {},
   "outputs": [
    {
     "data": {
      "text/plain": [
       "array([50, 49, 48, 47, 46, 45, 44, 43, 42, 41, 40, 39, 38, 37, 36, 35, 34,\n",
       "       33, 32, 31, 30, 29, 28, 27, 26, 25, 24, 23, 22, 21, 20, 19, 18, 17,\n",
       "       16, 15, 14, 13, 12, 11, 10,  9,  8,  7,  6,  5,  4,  3,  2,  1,  0])"
      ]
     },
     "execution_count": 44,
     "metadata": {},
     "output_type": "execute_result"
    }
   ],
   "source": [
    "A[50::-1]\n",
    "# start is 50\n",
    "# end is all \n",
    "# step each -1 (reverse)"
   ]
  },
  {
   "cell_type": "markdown",
   "metadata": {},
   "source": [
    " ##  **2D array**\n",
    "- [row_slice, column_slice]\n",
    "- access value at **row** [start_row : end_row : step]\n",
    "- access value at **column** [, : start_col : end_col : step]\n",
    "- access value at **row and column** [start_row : end_row : step **,** : start_col : end_col : step]"
   ]
  },
  {
   "cell_type": "markdown",
   "metadata": {},
   "source": [
    "#### **access value at row**"
   ]
  },
  {
   "cell_type": "code",
   "execution_count": 45,
   "metadata": {},
   "outputs": [
    {
     "name": "stdout",
     "output_type": "stream",
     "text": [
      "[[ 0  1  2  3  4  5  6  7  8  9 10 11 12 13 14 15 16 17 18 19]\n",
      " [20 21 22 23 24 25 26 27 28 29 30 31 32 33 34 35 36 37 38 39]\n",
      " [40 41 42 43 44 45 46 47 48 49 50 51 52 53 54 55 56 57 58 59]\n",
      " [60 61 62 63 64 65 66 67 68 69 70 71 72 73 74 75 76 77 78 79]\n",
      " [80 81 82 83 84 85 86 87 88 89 90 91 92 93 94 95 96 97 98 99]]\n"
     ]
    }
   ],
   "source": [
    "B = np.arange(100).reshape(5, 20)\n",
    "print(B)"
   ]
  },
  {
   "cell_type": "code",
   "execution_count": 103,
   "metadata": {},
   "outputs": [
    {
     "data": {
      "text/plain": [
       "45"
      ]
     },
     "execution_count": 103,
     "metadata": {},
     "output_type": "execute_result"
    }
   ],
   "source": [
    "# access row at 2 ,column at 3\n",
    "B[2][5] "
   ]
  },
  {
   "cell_type": "code",
   "execution_count": 104,
   "metadata": {
    "scrolled": true
   },
   "outputs": [
    {
     "data": {
      "text/plain": [
       "array([[60, 61, 62, 63, 64, 65, 66, 67, 68, 69, 70, 71, 72, 73, 74, 75,\n",
       "        76, 77, 78, 79],\n",
       "       [80, 81, 82, 83, 84, 85, 86, 87, 88, 89, 90, 91, 92, 93, 94, 95,\n",
       "        96, 97, 98, 99]])"
      ]
     },
     "execution_count": 104,
     "metadata": {},
     "output_type": "execute_result"
    }
   ],
   "source": [
    "# access row at 2 and all column\n",
    "# (If omitted, it defaults to the end of the array.)\n",
    "B[3:]"
   ]
  },
  {
   "cell_type": "code",
   "execution_count": 105,
   "metadata": {},
   "outputs": [
    {
     "data": {
      "text/plain": [
       "array([[ 0,  1,  2,  3,  4,  5,  6,  7,  8,  9, 10, 11, 12, 13, 14, 15,\n",
       "        16, 17, 18, 19],\n",
       "       [20, 21, 22, 23, 24, 25, 26, 27, 28, 29, 30, 31, 32, 33, 34, 35,\n",
       "        36, 37, 38, 39]])"
      ]
     },
     "execution_count": 105,
     "metadata": {},
     "output_type": "execute_result"
    }
   ],
   "source": [
    "# access row 0 to 2 and all column\n",
    "# (If omitted, it defaults to the beginning of the array.)\n",
    "B[:2]"
   ]
  },
  {
   "cell_type": "code",
   "execution_count": 90,
   "metadata": {},
   "outputs": [
    {
     "data": {
      "text/plain": [
       "array([[80, 81, 82, 83, 84, 85, 86, 87, 88, 89, 90, 91, 92, 93, 94, 95,\n",
       "        96, 97, 98, 99]])"
      ]
     },
     "execution_count": 90,
     "metadata": {},
     "output_type": "execute_result"
    }
   ],
   "source": [
    "# access last position of row and all column\n",
    "B[-1:]"
   ]
  },
  {
   "cell_type": "markdown",
   "metadata": {},
   "source": [
    "#### **access value at column**"
   ]
  },
  {
   "cell_type": "code",
   "execution_count": 62,
   "metadata": {},
   "outputs": [
    {
     "data": {
      "text/plain": [
       "array([[ 0,  1,  2,  3,  4,  5,  6,  7,  8,  9, 10, 11, 12, 13, 14, 15,\n",
       "        16, 17, 18, 19],\n",
       "       [20, 21, 22, 23, 24, 25, 26, 27, 28, 29, 30, 31, 32, 33, 34, 35,\n",
       "        36, 37, 38, 39],\n",
       "       [40, 41, 42, 43, 44, 45, 46, 47, 48, 49, 50, 51, 52, 53, 54, 55,\n",
       "        56, 57, 58, 59],\n",
       "       [60, 61, 62, 63, 64, 65, 66, 67, 68, 69, 70, 71, 72, 73, 74, 75,\n",
       "        76, 77, 78, 79],\n",
       "       [80, 81, 82, 83, 84, 85, 86, 87, 88, 89, 90, 91, 92, 93, 94, 95,\n",
       "        96, 97, 98, 99]])"
      ]
     },
     "execution_count": 62,
     "metadata": {},
     "output_type": "execute_result"
    }
   ],
   "source": [
    "B"
   ]
  },
  {
   "cell_type": "code",
   "execution_count": 91,
   "metadata": {},
   "outputs": [
    {
     "data": {
      "text/plain": [
       "array([ 1, 21, 41, 61, 81])"
      ]
     },
     "execution_count": 91,
     "metadata": {},
     "output_type": "execute_result"
    }
   ],
   "source": [
    "# access first column and all row\n",
    "B[:,1]"
   ]
  },
  {
   "cell_type": "code",
   "execution_count": 102,
   "metadata": {},
   "outputs": [
    {
     "data": {
      "text/plain": [
       "array([[ 1,  2,  3],\n",
       "       [21, 22, 23],\n",
       "       [41, 42, 43],\n",
       "       [61, 62, 63],\n",
       "       [81, 82, 83]])"
      ]
     },
     "execution_count": 102,
     "metadata": {},
     "output_type": "execute_result"
    }
   ],
   "source": [
    "# access column 1 to 4 and all row\n",
    "B[:,1:4]"
   ]
  },
  {
   "cell_type": "code",
   "execution_count": 101,
   "metadata": {},
   "outputs": [
    {
     "data": {
      "text/plain": [
       "array([[ 1,  3,  5,  7,  9, 11, 13, 15, 17, 19],\n",
       "       [21, 23, 25, 27, 29, 31, 33, 35, 37, 39],\n",
       "       [41, 43, 45, 47, 49, 51, 53, 55, 57, 59],\n",
       "       [61, 63, 65, 67, 69, 71, 73, 75, 77, 79],\n",
       "       [81, 83, 85, 87, 89, 91, 93, 95, 97, 99]])"
      ]
     },
     "execution_count": 101,
     "metadata": {},
     "output_type": "execute_result"
    }
   ],
   "source": [
    "# access column 1 to end and step size = 2 and all row\n",
    "B[:,1::2]"
   ]
  },
  {
   "cell_type": "markdown",
   "metadata": {},
   "source": [
    "#### **access value and column at column**"
   ]
  },
  {
   "cell_type": "code",
   "execution_count": 97,
   "metadata": {},
   "outputs": [
    {
     "data": {
      "text/plain": [
       "array([[ 0,  1,  2,  3,  4,  5,  6,  7,  8,  9, 10, 11, 12, 13, 14, 15,\n",
       "        16, 17, 18, 19],\n",
       "       [20, 21, 22, 23, 24, 25, 26, 27, 28, 29, 30, 31, 32, 33, 34, 35,\n",
       "        36, 37, 38, 39],\n",
       "       [40, 41, 42, 43, 44, 45, 46, 47, 48, 49, 50, 51, 52, 53, 54, 55,\n",
       "        56, 57, 58, 59],\n",
       "       [60, 61, 62, 63, 64, 65, 66, 67, 68, 69, 70, 71, 72, 73, 74, 75,\n",
       "        76, 77, 78, 79],\n",
       "       [80, 81, 82, 83, 84, 85, 86, 87, 88, 89, 90, 91, 92, 93, 94, 95,\n",
       "        96, 97, 98, 99]])"
      ]
     },
     "execution_count": 97,
     "metadata": {},
     "output_type": "execute_result"
    }
   ],
   "source": [
    "B"
   ]
  },
  {
   "cell_type": "code",
   "execution_count": 98,
   "metadata": {},
   "outputs": [
    {
     "data": {
      "text/plain": [
       "array([[ 0,  1,  2,  3,  4,  5,  6,  7,  8,  9, 10, 11, 12, 13, 14, 15,\n",
       "        16, 17, 18, 19],\n",
       "       [20, 21, 22, 23, 24, 25, 26, 27, 28, 29, 30, 31, 32, 33, 34, 35,\n",
       "        36, 37, 38, 39],\n",
       "       [40, 41, 42, 43, 44, 45, 46, 47, 48, 49, 50, 51, 52, 53, 54, 55,\n",
       "        56, 57, 58, 59],\n",
       "       [60, 61, 62, 63, 64, 65, 66, 67, 68, 69, 70, 71, 72, 73, 74, 75,\n",
       "        76, 77, 78, 79],\n",
       "       [80, 81, 82, 83, 84, 85, 86, 87, 88, 89, 90, 91, 92, 93, 94, 95,\n",
       "        96, 97, 98, 99]])"
      ]
     },
     "execution_count": 98,
     "metadata": {},
     "output_type": "execute_result"
    }
   ],
   "source": [
    "# access all row and all column\n",
    "B[:,:]\n"
   ]
  },
  {
   "cell_type": "code",
   "execution_count": 100,
   "metadata": {},
   "outputs": [
    {
     "data": {
      "text/plain": [
       "array([[41, 42, 43],\n",
       "       [61, 62, 63],\n",
       "       [81, 82, 83]])"
      ]
     },
     "execution_count": 100,
     "metadata": {},
     "output_type": "execute_result"
    }
   ],
   "source": [
    "# access row 2 to end and column 1 to 4\n",
    "B[2:, 1:4]\n"
   ]
  },
  {
   "cell_type": "code",
   "execution_count": 106,
   "metadata": {},
   "outputs": [
    {
     "data": {
      "text/plain": [
       "array([[ 2],\n",
       "       [22],\n",
       "       [42],\n",
       "       [62],\n",
       "       [82]])"
      ]
     },
     "execution_count": 106,
     "metadata": {},
     "output_type": "execute_result"
    }
   ],
   "source": [
    "# access row 0 to end and column 2 to 5 step = 3\n",
    "B[:, 2:5:3]"
   ]
  },
  {
   "cell_type": "markdown",
   "metadata": {},
   "source": [
    "#### Summary\n",
    "- Colon (:): Used to specify a range of indices within a single dimension. You can use start:stop:step to define the range.\n",
    "- Comma (,): Used to separate slice notations for different dimensions. This allows you to slice multidimensional arrays by specifying ranges for each dimension individually."
   ]
  },
  {
   "cell_type": "markdown",
   "metadata": {},
   "source": [
    "## How to sort numpy array\n",
    "### **np.sort**\n",
    "- np.sort(a, axis=-1, kind=None, order=None, *, stable=None)\n",
    "- Return a sorted copy of an array."
   ]
  },
  {
   "cell_type": "code",
   "execution_count": 175,
   "metadata": {},
   "outputs": [],
   "source": [
    "#np.sort?"
   ]
  },
  {
   "cell_type": "code",
   "execution_count": 170,
   "metadata": {},
   "outputs": [
    {
     "data": {
      "text/plain": [
       "array([[40, 19, 10,  8,  3],\n",
       "       [21, 64, 88, 81, 32],\n",
       "       [ 6, 62,  6,  3, 60],\n",
       "       [22, 42, 79, 15, 56],\n",
       "       [ 5, 96,  5, 89,  4],\n",
       "       [46, 43, 79, 67, 73],\n",
       "       [10, 40, 68, 60, 74],\n",
       "       [24, 85, 96, 31, 53],\n",
       "       [43, 19,  6, 95, 19],\n",
       "       [93, 96, 87, 95, 26]])"
      ]
     },
     "execution_count": 170,
     "metadata": {},
     "output_type": "execute_result"
    }
   ],
   "source": [
    "B = np.random.randint(1, 101, size = 50).reshape(10, 5)\n",
    "B\n"
   ]
  },
  {
   "cell_type": "code",
   "execution_count": 176,
   "metadata": {},
   "outputs": [
    {
     "data": {
      "text/plain": [
       "array([[ 5, 19,  5,  3,  3],\n",
       "       [ 6, 19,  6,  8,  4],\n",
       "       [10, 40,  6, 15, 19],\n",
       "       [21, 42, 10, 31, 26],\n",
       "       [22, 43, 68, 60, 32],\n",
       "       [24, 62, 79, 67, 53],\n",
       "       [40, 64, 79, 81, 56],\n",
       "       [43, 85, 87, 89, 60],\n",
       "       [46, 96, 88, 95, 73],\n",
       "       [93, 96, 96, 95, 74]])"
      ]
     },
     "execution_count": 176,
     "metadata": {},
     "output_type": "execute_result"
    }
   ],
   "source": [
    "# axis = 0 -> sort by column\n",
    "C = np.sort(B, axis=0)\n",
    "C"
   ]
  },
  {
   "cell_type": "code",
   "execution_count": 177,
   "metadata": {},
   "outputs": [
    {
     "data": {
      "text/plain": [
       "array([[ 3,  8, 10, 19, 40],\n",
       "       [21, 32, 64, 81, 88],\n",
       "       [ 3,  6,  6, 60, 62],\n",
       "       [15, 22, 42, 56, 79],\n",
       "       [ 4,  5,  5, 89, 96],\n",
       "       [43, 46, 67, 73, 79],\n",
       "       [10, 40, 60, 68, 74],\n",
       "       [24, 31, 53, 85, 96],\n",
       "       [ 6, 19, 19, 43, 95],\n",
       "       [26, 87, 93, 95, 96]])"
      ]
     },
     "execution_count": 177,
     "metadata": {},
     "output_type": "execute_result"
    }
   ],
   "source": [
    "# axis = 1 -> sort by row\n",
    "D = np.sort(B, axis=1)\n",
    "D"
   ]
  },
  {
   "cell_type": "code",
   "execution_count": 186,
   "metadata": {},
   "outputs": [
    {
     "name": "stdout",
     "output_type": "stream",
     "text": [
      "Original Array:\n",
      "[[40 19 10  8  3]\n",
      " [21 64 88 81 32]\n",
      " [ 6 62  6  3 60]\n",
      " [22 42 79 15 56]\n",
      " [ 5 96  5 89  4]\n",
      " [46 43 79 67 73]\n",
      " [10 40 68 60 74]\n",
      " [24 85 96 31 53]\n",
      " [43 19  6 95 19]\n",
      " [93 96 87 95 26]]\n",
      "\n",
      "Sorted Array (Heapsort):\n",
      "\n",
      "[[ 3  8 10 19 40]\n",
      " [21 32 64 81 88]\n",
      " [ 3  6  6 60 62]\n",
      " [15 22 42 56 79]\n",
      " [ 4  5  5 89 96]\n",
      " [43 46 67 73 79]\n",
      " [10 40 60 68 74]\n",
      " [24 31 53 85 96]\n",
      " [ 6 19 19 43 95]\n",
      " [26 87 93 95 96]]\n"
     ]
    }
   ],
   "source": [
    "# Sort using heapsort\n",
    "sorted_array = np.sort(B, kind='heapsort')\n",
    "\n",
    "print(\"Original Array:\")\n",
    "print(B)\n",
    "print(\"\\nSorted Array (Heapsort):\\n\")\n",
    "print(sorted_array)"
   ]
  }
 ],
 "metadata": {
  "kernelspec": {
   "display_name": "Python 3 (ipykernel)",
   "language": "python",
   "name": "python3"
  },
  "language_info": {
   "codemirror_mode": {
    "name": "ipython",
    "version": 3
   },
   "file_extension": ".py",
   "mimetype": "text/x-python",
   "name": "python",
   "nbconvert_exporter": "python",
   "pygments_lexer": "ipython3",
   "version": "3.10.9"
  }
 },
 "nbformat": 4,
 "nbformat_minor": 2
}
