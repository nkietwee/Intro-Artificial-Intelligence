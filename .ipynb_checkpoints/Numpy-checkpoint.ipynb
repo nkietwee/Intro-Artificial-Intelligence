{
 "cells": [
  {
   "cell_type": "markdown",
   "metadata": {},
   "source": [
    "## **Numpy**\n",
    "\n",
    "    NumPy is the fundamental package for scientific computing in Python. It is a Pythonlibrary that provides a multidimensional array object, various derived objects (such as masked arrays and matrices), and an assortment of routines for fast operations on arrays, including mathematical, logical, shape manipulation, sorting, selecting, I/O, discrete Fourier transforms, basic linear algebra, basic statistical operations, random simulation and much more.\n",
    "[https://numpy.org/doc/stable/user/whatisnumpy.html]"
   ]
  },
  {
   "cell_type": "code",
   "execution_count": 68,
   "metadata": {},
   "outputs": [],
   "source": [
    "import numpy as np\n",
    "import matplotlib.pyplot as plt # for plot graph"
   ]
  },
  {
   "cell_type": "code",
   "execution_count": 67,
   "metadata": {},
   "outputs": [],
   "source": [
    "# If I forgot what is function do , I can type [function?]\n",
    "# such as\n",
    "# np.array?"
   ]
  },
  {
   "cell_type": "markdown",
   "metadata": {},
   "source": [
    "**np.array**\n",
    "- np.array(object, dtype=None, *, copy=True, order='K', subok=False, ndmin=0, like=None)\n",
    "- Create an array from data type (i.e list , tuple and etc) to numpy array"
   ]
  },
  {
   "cell_type": "code",
   "execution_count": 75,
   "metadata": {},
   "outputs": [
    {
     "name": "stdout",
     "output_type": "stream",
     "text": [
      "[1 2 3 4 5]\n",
      "<class 'numpy.ndarray'>\n",
      "int64\n"
     ]
    }
   ],
   "source": [
    "# conversion from list to NumPy arrays\n",
    "a = np.array([1, 2, 3, 4, 5])\n",
    "print(a)\n",
    "print(type(a))\n",
    "print(a.dtype)"
   ]
  },
  {
   "cell_type": "code",
   "execution_count": 74,
   "metadata": {},
   "outputs": [
    {
     "name": "stdout",
     "output_type": "stream",
     "text": [
      "[ 6  7  8  9 10]\n",
      "<class 'numpy.ndarray'>\n",
      "int64\n"
     ]
    }
   ],
   "source": [
    "# conversion from tuples to NumPy arrays\n",
    "a = np.array((6, 7, 8, 9, 10))\n",
    "print(a)\n",
    "print(type(a))\n",
    "print(a.dtype)"
   ]
  },
  {
   "cell_type": "code",
   "execution_count": 76,
   "metadata": {},
   "outputs": [
    {
     "name": "stdout",
     "output_type": "stream",
     "text": [
      "[6 list([7]) 8 9 10]\n",
      "<class 'numpy.ndarray'>\n",
      "object\n"
     ]
    },
    {
     "name": "stderr",
     "output_type": "stream",
     "text": [
      "/tmp/ipykernel_1378134/1770930003.py:2: VisibleDeprecationWarning: Creating an ndarray from ragged nested sequences (which is a list-or-tuple of lists-or-tuples-or ndarrays with different lengths or shapes) is deprecated. If you meant to do this, you must specify 'dtype=object' when creating the ndarray.\n",
      "  a = np.array((6, [7], 8, 9, 10))\n"
     ]
    }
   ],
   "source": [
    "# If I add many data type in np.array, It convert to object\n",
    "a = np.array((6, [7], 8, 9, 10))\n",
    "print(a)\n",
    "print(type(a))\n",
    "print(a.dtype)\n",
    "# This means that a is a numpy array where each element is stored as an object.\n",
    "# This is not typical for numerical arrays, as it loses some of the performance\n",
    "# and memory efficiency benefits of using numpy arrays with homogeneous data types. "
   ]
  },
  {
   "cell_type": "code",
   "execution_count": 20,
   "metadata": {},
   "outputs": [
    {
     "name": "stdout",
     "output_type": "stream",
     "text": [
      "[1 2 3 5 7]\n",
      "<class 'numpy.ndarray'>\n",
      "int32\n",
      "____________________\n",
      "[1. 2. 3. 5. 7.]\n",
      "<class 'numpy.ndarray'>\n",
      "float32\n"
     ]
    }
   ],
   "source": [
    "# Information for dtype(data type) [https://numpy.org/doc/stable/user/basics.types.html]\n",
    "a = np.array([1, 2, 3, 5, 7], dtype='i')\n",
    "print(a)\n",
    "print(type(a))\n",
    "print(a.dtype)\n",
    "\n",
    "print('____________________')\n",
    "\n",
    "b = np.array([1, 2, 3, 5, 7], dtype='f')\n",
    "print(b)\n",
    "print(type(b))\n",
    "print(b.dtype)"
   ]
  },
  {
   "cell_type": "code",
   "execution_count": 27,
   "metadata": {},
   "outputs": [
    {
     "name": "stdout",
     "output_type": "stream",
     "text": [
      "[[1 2 3]\n",
      " [4 5 6]]\n",
      "<class 'numpy.ndarray'>\n",
      "int64\n",
      "2\n",
      "(2, 3)\n"
     ]
    }
   ],
   "source": [
    "a = np.array([[1, 2, 3], [4, 5, 6]])\n",
    "print(a)\n",
    "print(type(a))\n",
    "print(a.dtype)\n",
    "print(a.ndim)\n",
    "print(a.shape)\n"
   ]
  },
  {
   "cell_type": "code",
   "execution_count": 28,
   "metadata": {},
   "outputs": [
    {
     "name": "stderr",
     "output_type": "stream",
     "text": [
      "/tmp/ipykernel_1378134/1201062784.py:2: VisibleDeprecationWarning: Creating an ndarray from ragged nested sequences (which is a list-or-tuple of lists-or-tuples-or ndarrays with different lengths or shapes) is deprecated. If you meant to do this, you must specify 'dtype=object' when creating the ndarray.\n",
      "  a = np.array([[1, 2, 3, 4], [4, 5, 6]])\n"
     ]
    }
   ],
   "source": [
    "# It should be equal all dimension\n",
    "a = np.array([[1, 2, 3, 4], [4, 5, 6]])"
   ]
  },
  {
   "cell_type": "code",
   "execution_count": 29,
   "metadata": {},
   "outputs": [
    {
     "name": "stdout",
     "output_type": "stream",
     "text": [
      "3\n",
      "(2, 2, 2)\n"
     ]
    }
   ],
   "source": [
    "a = np.array([[[1, 2], [3, 4]], [[5, 6], [7, 8]]])\n",
    "print(a.ndim)\n",
    "print(a.shape)"
   ]
  },
  {
   "cell_type": "markdown",
   "metadata": {},
   "source": [
    "**c is a 3D array:**\n",
    "- The first dimension (or axis) has 2 elements: [[1, 2], [3, 4]] and [[5, 6], [7, 8]].\n",
    "- The second dimension (or axis) also has 2 elements: [1, 2] and [3, 4] within each sub-array.\n",
    "- The third dimension (or axis) has 2 elements: 1 and 2 within each sub-sub-array."
   ]
  },
  {
   "cell_type": "markdown",
   "metadata": {},
   "source": [
    "**How to access value**\n",
    "- Bracket Indexing ([][] notation):\n",
    "- Comma-Separated Indices ([,] notation):\n"
   ]
  },
  {
   "cell_type": "code",
   "execution_count": 34,
   "metadata": {},
   "outputs": [
    {
     "data": {
      "text/plain": [
       "array([[ 1,  2,  3,  4,  5],\n",
       "       [ 6,  7,  8,  9, 10]])"
      ]
     },
     "execution_count": 34,
     "metadata": {},
     "output_type": "execute_result"
    }
   ],
   "source": [
    "a = np.array([[1, 2, 3, 4, 5] ,[6, 7, 8, 9, 10]])\n",
    "a"
   ]
  },
  {
   "cell_type": "code",
   "execution_count": 36,
   "metadata": {},
   "outputs": [
    {
     "data": {
      "text/plain": [
       "2"
      ]
     },
     "execution_count": 36,
     "metadata": {},
     "output_type": "execute_result"
    }
   ],
   "source": [
    "# Bracket Indexing ([][] notation):\n",
    "a[0][1] # [0] first row [1] second column"
   ]
  },
  {
   "cell_type": "code",
   "execution_count": 38,
   "metadata": {},
   "outputs": [
    {
     "data": {
      "text/plain": [
       "2"
      ]
     },
     "execution_count": 38,
     "metadata": {},
     "output_type": "execute_result"
    }
   ],
   "source": [
    "# Comma-Separated Indices ([,] notation):\n",
    "a[0, 1] # [0] first row [1] second column"
   ]
  },
  {
   "cell_type": "code",
   "execution_count": 39,
   "metadata": {},
   "outputs": [],
   "source": [
    "a = np.array([[[1], [2], [3]], [[4], [5], [6]]])\n",
    "b = np.array([[1, 2, 3], [4, 5, 6]])"
   ]
  },
  {
   "cell_type": "code",
   "execution_count": 40,
   "metadata": {},
   "outputs": [
    {
     "name": "stdout",
     "output_type": "stream",
     "text": [
      "Array a:\n",
      "[[[1]\n",
      "  [2]\n",
      "  [3]]\n",
      "\n",
      " [[4]\n",
      "  [5]\n",
      "  [6]]]\n",
      "Shape of a: (2, 3, 1)\n",
      "Dimension : 3\n",
      "Type :  int64\n",
      "\n",
      "Array b:\n",
      "[[1 2 3]\n",
      " [4 5 6]]\n",
      "Shape of b: (2, 3)\n",
      "Dimension : 2\n",
      "Type :  int64\n"
     ]
    }
   ],
   "source": [
    "print(\"Array a:\") # like rgb\n",
    "print(a)\n",
    "print(\"Shape of a:\", a.shape)\n",
    "print(\"Dimension :\", a.ndim)\n",
    "print(\"Type : \", a.dtype)\n",
    "print(\"\")\n",
    "\n",
    "# Array b\n",
    "print(\"Array b:\")\n",
    "print(b)\n",
    "print(\"Shape of b:\", b.shape)\n",
    "print(\"Dimension :\", b.ndim)\n",
    "print(\"Type : \", b.dtype)"
   ]
  },
  {
   "cell_type": "code",
   "execution_count": 47,
   "metadata": {},
   "outputs": [
    {
     "name": "stdout",
     "output_type": "stream",
     "text": [
      "3\n",
      "<class 'numpy.ndarray'>\n",
      "int64\n"
     ]
    }
   ],
   "source": [
    "# ??\n",
    "a = np.array(3)\n",
    "print(a)\n",
    "print(type(a))\n",
    "print(a.dtype)\n"
   ]
  },
  {
   "cell_type": "markdown",
   "metadata": {},
   "source": [
    "**np.arange**\n",
    "\n",
    "- np.arange([start, ]stop, [step, ]dtype=None, *, device=None, like=None)\n",
    "- Return evenly spaced values within a given interval.\n"
   ]
  },
  {
   "cell_type": "code",
   "execution_count": 144,
   "metadata": {},
   "outputs": [],
   "source": [
    "# np.arange?"
   ]
  },
  {
   "cell_type": "code",
   "execution_count": 85,
   "metadata": {},
   "outputs": [],
   "source": [
    "a = np.arange(5) # (stop)"
   ]
  },
  {
   "cell_type": "code",
   "execution_count": 49,
   "metadata": {},
   "outputs": [
    {
     "data": {
      "text/plain": [
       "array([0, 1, 2, 3, 4])"
      ]
     },
     "execution_count": 49,
     "metadata": {},
     "output_type": "execute_result"
    }
   ],
   "source": [
    "# a: Displays the array a in a format suitable for direct inspection \n",
    "# in an interactive session. In Jupyter notebooks, it typically formats \n",
    "# the array in a neat, readable manner.\n",
    "a"
   ]
  },
  {
   "cell_type": "code",
   "execution_count": 50,
   "metadata": {},
   "outputs": [
    {
     "name": "stdout",
     "output_type": "stream",
     "text": [
      "[0 1 2 3 4]\n"
     ]
    }
   ],
   "source": [
    "# print(a): Prints the array a explicitly using the print() function,\n",
    "# which may result in a slightly different formatting, especially when\n",
    "# printing multiple arrays or when mixed with other output.\n",
    "print(a)"
   ]
  },
  {
   "cell_type": "code",
   "execution_count": 83,
   "metadata": {},
   "outputs": [
    {
     "name": "stdout",
     "output_type": "stream",
     "text": [
      "[20 21 22 23 24 25 26 27 28 29]\n"
     ]
    }
   ],
   "source": [
    "b = np.arange(20, 30) # (start, stop)\n",
    "print(b)"
   ]
  },
  {
   "cell_type": "code",
   "execution_count": 84,
   "metadata": {},
   "outputs": [
    {
     "name": "stdout",
     "output_type": "stream",
     "text": [
      "[20 22 24 26 28]\n"
     ]
    }
   ],
   "source": [
    "c = np.arange(20, 30, 2) # (start, stop, step)\n",
    "print(c)"
   ]
  },
  {
   "cell_type": "code",
   "execution_count": 53,
   "metadata": {},
   "outputs": [
    {
     "name": "stdout",
     "output_type": "stream",
     "text": [
      "range(0, 10)\n"
     ]
    }
   ],
   "source": [
    "# When you use print(range(10)), it displays range(0, 10)\n",
    "# because range is a special type of sequence object\n",
    "# that represents a range of numbers. To see the actual numbers,\n",
    "# you need to convert the range object to a list or iterate through it.\n",
    "# This approach provides memory efficiency and performance benefits,\n",
    "# especially for large ranges.\n",
    "print(range(10))"
   ]
  },
  {
   "cell_type": "code",
   "execution_count": 54,
   "metadata": {},
   "outputs": [
    {
     "data": {
      "text/plain": [
       "range"
      ]
     },
     "execution_count": 54,
     "metadata": {},
     "output_type": "execute_result"
    }
   ],
   "source": [
    "type(range(10))"
   ]
  },
  {
   "cell_type": "markdown",
   "metadata": {},
   "source": [
    "**np.random**\n",
    "- **np.random.rand**\n",
    "- **np.reshape**\n",
    "- **np.random.randn**\n",
    "- **np.random.randint**\n",
    "- **np.random.permutation**"
   ]
  },
  {
   "cell_type": "markdown",
   "metadata": {},
   "source": [
    "**np.random.rand**\n",
    "- np.random.rand(d0, d1, ..., dn)\n",
    "- Random values between 0 and 1 in a given shape\n"
   ]
  },
  {
   "cell_type": "code",
   "execution_count": 106,
   "metadata": {},
   "outputs": [],
   "source": [
    "# np.random.rand.rand?"
   ]
  },
  {
   "cell_type": "code",
   "execution_count": 127,
   "metadata": {},
   "outputs": [
    {
     "name": "stdout",
     "output_type": "stream",
     "text": [
      "[[0.91987597 0.67608807 0.82299621 0.38977406 0.80496373]\n",
      " [0.86213966 0.11738238 0.81330608 0.15232924 0.23469135]\n",
      " [0.24517629 0.85507653 0.90648576 0.21647235 0.27120333]\n",
      " [0.4623573  0.54484132 0.97133002 0.41590073 0.70384547]\n",
      " [0.98623121 0.99885283 0.92270529 0.79769723 0.75354252]\n",
      " [0.03527912 0.33209139 0.50845794 0.70577173 0.26809626]\n",
      " [0.01917501 0.99148047 0.42771225 0.08331906 0.09238388]\n",
      " [0.05167194 0.18571723 0.56756838 0.62823877 0.1884144 ]\n",
      " [0.78173066 0.04206798 0.93104328 0.64020019 0.85745741]\n",
      " [0.46156482 0.46485877 0.74961543 0.74015507 0.97606363]\n",
      " [0.3506697  0.64283327 0.86731522 0.62022037 0.44959029]\n",
      " [0.69287565 0.18467781 0.51800372 0.06096295 0.78662075]\n",
      " [0.21854883 0.27710278 0.69509609 0.90475315 0.02671887]\n",
      " [0.17976086 0.90464529 0.65480726 0.07751708 0.29917205]\n",
      " [0.43198217 0.56291027 0.62820565 0.7460895  0.53129622]\n",
      " [0.63116732 0.36699532 0.1843983  0.67484792 0.93465195]\n",
      " [0.95107046 0.43222843 0.55406552 0.95511979 0.88974105]\n",
      " [0.18881031 0.95870406 0.44905976 0.64929126 0.64638638]\n",
      " [0.98141431 0.11559456 0.53333397 0.57287437 0.39923955]\n",
      " [0.555692   0.70009594 0.63837075 0.62671625 0.53124213]]\n"
     ]
    }
   ],
   "source": [
    "a = np.random.rand(100)\n",
    "print(a)"
   ]
  },
  {
   "cell_type": "code",
   "execution_count": 122,
   "metadata": {},
   "outputs": [
    {
     "data": {
      "text/plain": [
       "(array([13., 10., 12.,  8.,  8., 10., 10.,  4., 13., 12.]),\n",
       " array([6.85145059e-05, 9.99259016e-02, 1.99783289e-01, 2.99640676e-01,\n",
       "        3.99498063e-01, 4.99355450e-01, 5.99212837e-01, 6.99070224e-01,\n",
       "        7.98927611e-01, 8.98784998e-01, 9.98642385e-01]),\n",
       " <BarContainer object of 10 artists>)"
      ]
     },
     "execution_count": 122,
     "metadata": {},
     "output_type": "execute_result"
    },
    {
     "data": {
      "image/png": "[encoded data removed]",
      "text/plain": [
       "<Figure size 432x288 with 1 Axes>"
      ]
     },
     "metadata": {
      "needs_background": "light"
     },
     "output_type": "display_data"
    }
   ],
   "source": [
    "plt.hist(a)"
   ]
  },
  {
   "cell_type": "code",
   "execution_count": 110,
   "metadata": {},
   "outputs": [
    {
     "name": "stdout",
     "output_type": "stream",
     "text": [
      "[[0.16087814 0.70183117 0.51703576]\n",
      " [0.76801189 0.08950848 0.99730376]]\n"
     ]
    }
   ],
   "source": [
    "b = np.random.rand(2, 3)\n",
    "print(b)"
   ]
  },
  {
   "cell_type": "code",
   "execution_count": 118,
   "metadata": {},
   "outputs": [
    {
     "name": "stdout",
     "output_type": "stream",
     "text": [
      "[[[5.85630601e-01 9.88433623e-02 6.25256962e-04 5.88873431e-01]\n",
      "  [6.92576611e-01 9.13067357e-02 6.48212459e-01 1.66817543e-02]\n",
      "  [6.80312737e-01 9.08278945e-01 2.04690061e-01 3.92687919e-01]]\n",
      "\n",
      " [[4.73851983e-02 4.92805154e-01 8.48241012e-01 5.93523484e-01]\n",
      "  [7.94203801e-05 1.55232815e-01 2.65151898e-01 4.80048324e-01]\n",
      "  [2.96218459e-01 5.95261517e-01 1.50012967e-01 7.79938219e-01]]]\n"
     ]
    }
   ],
   "source": [
    "b = np.random.rand(2, 3, 4)\n",
    "print(b)"
   ]
  },
  {
   "cell_type": "markdown",
   "metadata": {},
   "source": [
    "**np.random.randn**\n",
    "- random.randn(d0, d1, ..., dn)\n",
    "- Return a sample (or samples) from the “standard normal” distribution."
   ]
  },
  {
   "cell_type": "code",
   "execution_count": 113,
   "metadata": {},
   "outputs": [],
   "source": [
    "# np.random.randn?"
   ]
  },
  {
   "cell_type": "code",
   "execution_count": 124,
   "metadata": {},
   "outputs": [
    {
     "name": "stdout",
     "output_type": "stream",
     "text": [
      "[ 2.17326052  1.16006456 -0.03777134  0.17060004  1.08772913 -2.23718763\n",
      " -0.50735161  0.40622039  0.57134411  0.21245376]\n"
     ]
    }
   ],
   "source": [
    "A = np.random.randn(10)\n",
    "print(A)"
   ]
  },
  {
   "cell_type": "code",
   "execution_count": 143,
   "metadata": {},
   "outputs": [
    {
     "name": "stdout",
     "output_type": "stream",
     "text": [
      "[-0.58594711  0.87533503  0.48870641  0.07688317 -1.42042919  0.26724093\n",
      " -2.43867808  1.51039146  0.85749402 -0.6442403   2.52597634 -0.35463778\n",
      " -0.43218209  0.35387931  0.67258269  0.6118143   0.32616781 -1.91975351\n",
      "  0.46297079  0.14451496  1.05507883 -1.16885741 -1.42587734 -0.66308373\n",
      "  1.41318364 -1.09153388  0.05732049  0.25434627 -0.95104454  0.29725724\n",
      " -0.06323823 -0.06468418 -1.26633636 -0.42180574  0.93321112  0.58376168\n",
      " -0.70045975  0.20130822 -1.32856466  1.88068065 -0.71581016 -0.22594906\n",
      "  1.37175175  1.27519559 -0.98995078 -0.82028163  1.22831897 -0.83393353\n",
      " -0.94850768  1.82872022  1.313037    1.65143414 -1.16307327 -0.09300253\n",
      "  0.75151979 -0.41836236 -0.20146701 -0.61080933 -0.62441461 -1.20191578\n",
      "  0.34839576 -0.91301033 -1.14901097  1.48782482  0.46298991  0.97773474\n",
      " -1.10338973 -2.07189684  1.39864531 -1.08642348  0.5165161   1.87917863\n",
      " -0.07134976 -0.76692674  0.23510995  0.43927918  0.02608818 -0.38038998\n",
      " -1.13158432  0.26247049 -0.34273836  0.31579714 -1.7686768  -0.13865162\n",
      " -1.10977106  2.28310177 -0.5807702  -1.78006407  0.11978623 -1.21035075\n",
      "  1.29574348  0.68128169 -0.55558868  0.17743771  0.18826939  1.89214984\n",
      "  0.35978713 -1.62318066  2.14479505 -0.51044371]\n"
     ]
    }
   ],
   "source": [
    "A = np.random.randn(100)\n",
    "print(A)"
   ]
  },
  {
   "cell_type": "markdown",
   "metadata": {},
   "source": [
    "**np.reshape**\n",
    "- numpy.reshape(a, newshape, order='C')[source]\n",
    "- Gives a new shape to an array without changing its data."
   ]
  },
  {
   "cell_type": "markdown",
   "metadata": {},
   "source": [
    "**How to reshape numpy array**\n",
    "- add reshape to numpy array\n",
    "- It must have variable for recieve reshape function\n"
   ]
  },
  {
   "cell_type": "code",
   "execution_count": 139,
   "metadata": {},
   "outputs": [
    {
     "name": "stdout",
     "output_type": "stream",
     "text": [
      "[[-0.1338652  -0.79537316  0.35917849  0.18246751  1.04295469]\n",
      " [ 0.01735948 -0.39499591 -0.40046202 -0.38478495  0.80248905]]\n"
     ]
    }
   ],
   "source": [
    "# add reshape to numpy array\n",
    "A = np.random.randn(10).reshape(2, 5)\n",
    "print(A)"
   ]
  },
  {
   "cell_type": "code",
   "execution_count": 142,
   "metadata": {},
   "outputs": [
    {
     "name": "stdout",
     "output_type": "stream",
     "text": [
      "[[-0.1338652  -0.79537316  0.35917849  0.18246751  1.04295469]\n",
      " [ 0.01735948 -0.39499591 -0.40046202 -0.38478495  0.80248905]]\n"
     ]
    }
   ],
   "source": [
    "# Due to reshape return new array ,so It must have variable for recieve reshape function\n",
    "A = A.reshape(2, 5)\n",
    "print(A)"
   ]
  },
  {
   "cell_type": "markdown",
   "metadata": {},
   "source": [
    "**np.random.randint**\n",
    "- random.randint(low, high=None, size=None, dtype=int)\n",
    "- Return random integers from low (inclusive) to high (exclusive)."
   ]
  },
  {
   "cell_type": "code",
   "execution_count": 107,
   "metadata": {},
   "outputs": [],
   "source": [
    "# np.random.randint?"
   ]
  },
  {
   "cell_type": "code",
   "execution_count": 108,
   "metadata": {},
   "outputs": [
    {
     "data": {
      "text/plain": [
       "1"
      ]
     },
     "execution_count": 108,
     "metadata": {},
     "output_type": "execute_result"
    }
   ],
   "source": [
    "np.random.randint(20) # (high)"
   ]
  },
  {
   "cell_type": "code",
   "execution_count": 109,
   "metadata": {},
   "outputs": [
    {
     "data": {
      "text/plain": [
       "28"
      ]
     },
     "execution_count": 109,
     "metadata": {},
     "output_type": "execute_result"
    }
   ],
   "source": [
    "np.random.randint(20, 30) # (low, high)"
   ]
  },
  {
   "cell_type": "markdown",
   "metadata": {},
   "source": [
    "**np.random.permutation**\n",
    "- np.random.permutation(x)\n",
    "- Randomly permute a sequence, or return a permuted range.\n",
    "    If x is an integer, randomly permute np.arange(x).\n",
    "    If x is an array, make a copy and shuffle the elements randomly."
   ]
  },
  {
   "cell_type": "code",
   "execution_count": 77,
   "metadata": {},
   "outputs": [],
   "source": [
    "# np.random.permutation?"
   ]
  },
  {
   "cell_type": "code",
   "execution_count": 55,
   "metadata": {},
   "outputs": [
    {
     "name": "stdout",
     "output_type": "stream",
     "text": [
      "[3 1 4 0 2]\n"
     ]
    }
   ],
   "source": [
    "A = np.random.permutation(5)\n",
    "print(A)"
   ]
  },
  {
   "cell_type": "code",
   "execution_count": 56,
   "metadata": {},
   "outputs": [
    {
     "name": "stdout",
     "output_type": "stream",
     "text": [
      "[4 0 3 2 1]\n"
     ]
    }
   ],
   "source": [
    "B = np.random.permutation(np.arange(5))\n",
    "print(B)"
   ]
  },
  {
   "cell_type": "markdown",
   "metadata": {},
   "source": [
    "**How to slicing array**\n",
    "- **[start] [stop] [step]**\n",
    "- start : start of interval\n",
    "- stop : end at stop - 1\n",
    "- step : spacing between values "
   ]
  },
  {
   "cell_type": "markdown",
   "metadata": {},
   "source": [
    "**1D array**"
   ]
  },
  {
   "cell_type": "code",
   "execution_count": 146,
   "metadata": {},
   "outputs": [
    {
     "name": "stdout",
     "output_type": "stream",
     "text": [
      "[ 0  1  2  3  4  5  6  7  8  9 10 11 12 13 14 15 16 17 18 19 20 21 22 23\n",
      " 24 25 26 27 28 29 30 31 32 33 34 35 36 37 38 39 40 41 42 43 44 45 46 47\n",
      " 48 49 50 51 52 53 54 55 56 57 58 59 60 61 62 63 64 65 66 67 68 69 70 71\n",
      " 72 73 74 75 76 77 78 79 80 81 82 83 84 85 86 87 88 89 90 91 92 93 94 95\n",
      " 96 97 98 99]\n"
     ]
    }
   ],
   "source": [
    "A = np.arange(100)\n",
    "print(A)"
   ]
  },
  {
   "cell_type": "code",
   "execution_count": 150,
   "metadata": {},
   "outputs": [
    {
     "data": {
      "text/plain": [
       "5"
      ]
     },
     "execution_count": 150,
     "metadata": {},
     "output_type": "execute_result"
    }
   ],
   "source": [
    "A[5] # 5 is position "
   ]
  },
  {
   "cell_type": "code",
   "execution_count": 170,
   "metadata": {},
   "outputs": [
    {
     "data": {
      "text/plain": [
       "99"
      ]
     },
     "execution_count": 170,
     "metadata": {},
     "output_type": "execute_result"
    }
   ],
   "source": [
    "A[-1] # last position"
   ]
  },
  {
   "cell_type": "code",
   "execution_count": 153,
   "metadata": {},
   "outputs": [
    {
     "data": {
      "text/plain": [
       "array([2, 3, 4, 5, 6, 7, 8, 9])"
      ]
     },
     "execution_count": 153,
     "metadata": {},
     "output_type": "execute_result"
    }
   ],
   "source": [
    "A[2:10]\n",
    "# start is position 2\n",
    "# end is position 10\n",
    "# step each 1(default)"
   ]
  },
  {
   "cell_type": "code",
   "execution_count": 157,
   "metadata": {},
   "outputs": [
    {
     "data": {
      "text/plain": [
       "array([50, 49, 48, 47, 46, 45, 44, 43, 42, 41, 40, 39, 38, 37, 36, 35, 34,\n",
       "       33, 32, 31, 30, 29, 28, 27, 26, 25, 24, 23, 22, 21, 20, 19, 18, 17,\n",
       "       16, 15, 14, 13, 12, 11, 10,  9,  8,  7,  6,  5,  4,  3,  2,  1,  0])"
      ]
     },
     "execution_count": 157,
     "metadata": {},
     "output_type": "execute_result"
    }
   ],
   "source": [
    "A[50::-1]\n",
    "# start is 50\n",
    "# end is all \n",
    "# step each -1 (reverse)"
   ]
  },
  {
   "cell_type": "markdown",
   "metadata": {},
   "source": [
    "**2D array**"
   ]
  },
  {
   "cell_type": "code",
   "execution_count": 159,
   "metadata": {},
   "outputs": [
    {
     "name": "stdout",
     "output_type": "stream",
     "text": [
      "[[ 0  1  2  3  4  5  6  7  8  9 10 11 12 13 14 15 16 17 18 19]\n",
      " [20 21 22 23 24 25 26 27 28 29 30 31 32 33 34 35 36 37 38 39]\n",
      " [40 41 42 43 44 45 46 47 48 49 50 51 52 53 54 55 56 57 58 59]\n",
      " [60 61 62 63 64 65 66 67 68 69 70 71 72 73 74 75 76 77 78 79]\n",
      " [80 81 82 83 84 85 86 87 88 89 90 91 92 93 94 95 96 97 98 99]]\n"
     ]
    }
   ],
   "source": [
    "B = np.arange(100).reshape(5, 20)\n",
    "print(B)"
   ]
  },
  {
   "cell_type": "code",
   "execution_count": 168,
   "metadata": {},
   "outputs": [
    {
     "data": {
      "text/plain": [
       "43"
      ]
     },
     "execution_count": 168,
     "metadata": {},
     "output_type": "execute_result"
    }
   ],
   "source": [
    "B[2][3] # position of row is 2 \n",
    "# position of column is 3"
   ]
  },
  {
   "cell_type": "code",
   "execution_count": 161,
   "metadata": {},
   "outputs": [
    {
     "data": {
      "text/plain": [
       "array([[40, 41, 42, 43, 44, 45, 46, 47, 48, 49, 50, 51, 52, 53, 54, 55,\n",
       "        56, 57, 58, 59],\n",
       "       [60, 61, 62, 63, 64, 65, 66, 67, 68, 69, 70, 71, 72, 73, 74, 75,\n",
       "        76, 77, 78, 79],\n",
       "       [80, 81, 82, 83, 84, 85, 86, 87, 88, 89, 90, 91, 92, 93, 94, 95,\n",
       "        96, 97, 98, 99]])"
      ]
     },
     "execution_count": 161,
     "metadata": {},
     "output_type": "execute_result"
    }
   ],
   "source": [
    "B[2:] # start at position of row at 2 "
   ]
  },
  {
   "cell_type": "code",
   "execution_count": 165,
   "metadata": {},
   "outputs": [
    {
     "data": {
      "text/plain": [
       "array([[ 0,  1,  2,  3,  4,  5,  6,  7,  8,  9, 10, 11, 12, 13, 14, 15,\n",
       "        16, 17, 18, 19],\n",
       "       [20, 21, 22, 23, 24, 25, 26, 27, 28, 29, 30, 31, 32, 33, 34, 35,\n",
       "        36, 37, 38, 39]])"
      ]
     },
     "execution_count": 165,
     "metadata": {},
     "output_type": "execute_result"
    }
   ],
   "source": [
    "B[:2] # start at position of row at 2 "
   ]
  },
  {
   "cell_type": "code",
   "execution_count": null,
   "metadata": {},
   "outputs": [],
   "source": []
  }
 ],
 "metadata": {
  "kernelspec": {
   "display_name": "Python 3 (ipykernel)",
   "language": "python",
   "name": "python3"
  },
  "language_info": {
   "codemirror_mode": {
    "name": "ipython",
    "version": 3
   },
   "file_extension": ".py",
   "mimetype": "text/x-python",
   "name": "python",
   "nbconvert_exporter": "python",
   "pygments_lexer": "ipython3",
   "version": "3.10.9"
  }
 },
 "nbformat": 4,
 "nbformat_minor": 2
}
