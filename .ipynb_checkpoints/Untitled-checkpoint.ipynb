{
 "cells": [
  {
   "cell_type": "code",
   "execution_count": 1,
   "id": "56a42bea",
   "metadata": {},
   "outputs": [],
   "source": [
    "import pandas as pd"
   ]
  },
  {
   "cell_type": "code",
   "execution_count": 11,
   "id": "fa14381a",
   "metadata": {},
   "outputs": [],
   "source": [
    "df = pd.read_csv('./dataset/ons.csv')"
   ]
  },
  {
   "cell_type": "code",
   "execution_count": 9,
   "id": "39a3705d",
   "metadata": {},
   "outputs": [
    {
     "data": {
      "text/html": [
       "<div>\n",
       "<style scoped>\n",
       "    .dataframe tbody tr th:only-of-type {\n",
       "        vertical-align: middle;\n",
       "    }\n",
       "\n",
       "    .dataframe tbody tr th {\n",
       "        vertical-align: top;\n",
       "    }\n",
       "\n",
       "    .dataframe thead th {\n",
       "        text-align: right;\n",
       "    }\n",
       "</style>\n",
       "<table border=\"1\" class=\"dataframe\">\n",
       "  <thead>\n",
       "    <tr style=\"text-align: right;\">\n",
       "      <th></th>\n",
       "      <th>Product</th>\n",
       "      <th>Kcal/ml</th>\n",
       "      <th>Pro:Fat:CHO</th>\n",
       "      <th>น้ำหนัก(g)/ช้อน</th>\n",
       "      <th>Kcal/ส่วน</th>\n",
       "      <th>Protein(g)/ส่วน</th>\n",
       "      <th>Kcal/ผง100g</th>\n",
       "      <th>Protein (g)/ผง100g</th>\n",
       "      <th>Fat (g)/ผง100g</th>\n",
       "      <th>CHO (g)/ผง100g</th>\n",
       "      <th>สัดส่วน</th>\n",
       "    </tr>\n",
       "  </thead>\n",
       "  <tbody>\n",
       "    <tr>\n",
       "      <th>0</th>\n",
       "      <td>Ensure ชนิดผง</td>\n",
       "      <td>1:01</td>\n",
       "      <td>15:29:56</td>\n",
       "      <td>9</td>\n",
       "      <td>38.33</td>\n",
       "      <td>1.44</td>\n",
       "      <td>428</td>\n",
       "      <td>15.9</td>\n",
       "      <td>14</td>\n",
       "      <td>57.4</td>\n",
       "      <td>1ช้อน</td>\n",
       "    </tr>\n",
       "    <tr>\n",
       "      <th>1</th>\n",
       "      <td>Ensure gold กลิ่นวนิลา</td>\n",
       "      <td>1:01</td>\n",
       "      <td>15:29:56</td>\n",
       "      <td>10.1</td>\n",
       "      <td>43.63</td>\n",
       "      <td>1.75</td>\n",
       "      <td>432</td>\n",
       "      <td>17.33</td>\n",
       "      <td>14</td>\n",
       "      <td>56.42</td>\n",
       "      <td>1ช้อน</td>\n",
       "    </tr>\n",
       "    <tr>\n",
       "      <th>2</th>\n",
       "      <td>Ensure gold กลิ่นสตรอเบอร์รี่</td>\n",
       "      <td>1:01</td>\n",
       "      <td>15:29:56</td>\n",
       "      <td>10.1</td>\n",
       "      <td>43.73</td>\n",
       "      <td>1.75</td>\n",
       "      <td>433</td>\n",
       "      <td>17.34</td>\n",
       "      <td>14</td>\n",
       "      <td>56.58</td>\n",
       "      <td>1ช้อน</td>\n",
       "    </tr>\n",
       "    <tr>\n",
       "      <th>3</th>\n",
       "      <td>Ensure gold กลิ่นธัญพืช</td>\n",
       "      <td>1:01</td>\n",
       "      <td>15:29:56</td>\n",
       "      <td>10.1</td>\n",
       "      <td>43.63</td>\n",
       "      <td>1.75</td>\n",
       "      <td>432</td>\n",
       "      <td>17.33</td>\n",
       "      <td>14</td>\n",
       "      <td>56.42</td>\n",
       "      <td>1ช้อน</td>\n",
       "    </tr>\n",
       "    <tr>\n",
       "      <th>4</th>\n",
       "      <td>Ensure gold กลิ่นช็อกโกแลต</td>\n",
       "      <td>1:01</td>\n",
       "      <td>15:29:56</td>\n",
       "      <td>10.1</td>\n",
       "      <td>43.53</td>\n",
       "      <td>1.75</td>\n",
       "      <td>431</td>\n",
       "      <td>17.34</td>\n",
       "      <td>14</td>\n",
       "      <td>55.45</td>\n",
       "      <td>1ช้อน</td>\n",
       "    </tr>\n",
       "  </tbody>\n",
       "</table>\n",
       "</div>"
      ],
      "text/plain": [
       "                         Product Kcal/ml Pro:Fat:CHO  น้ำหนัก(g)/ช้อน  \\\n",
       "0                  Ensure ชนิดผง    1:01    15:29:56                9   \n",
       "1         Ensure gold กลิ่นวนิลา    1:01    15:29:56             10.1   \n",
       "2  Ensure gold กลิ่นสตรอเบอร์รี่    1:01    15:29:56             10.1   \n",
       "3        Ensure gold กลิ่นธัญพืช    1:01    15:29:56             10.1   \n",
       "4     Ensure gold กลิ่นช็อกโกแลต    1:01    15:29:56             10.1   \n",
       "\n",
       "   Kcal/ส่วน  Protein(g)/ส่วน Kcal/ผง100g Protein (g)/ผง100g Fat (g)/ผง100g  \\\n",
       "0      38.33             1.44         428               15.9             14   \n",
       "1      43.63             1.75         432              17.33             14   \n",
       "2      43.73             1.75         433              17.34             14   \n",
       "3      43.63             1.75         432              17.33             14   \n",
       "4      43.53             1.75         431              17.34             14   \n",
       "\n",
       "  CHO (g)/ผง100g สัดส่วน  \n",
       "0           57.4   1ช้อน  \n",
       "1          56.42   1ช้อน  \n",
       "2          56.58   1ช้อน  \n",
       "3          56.42   1ช้อน  \n",
       "4          55.45   1ช้อน  "
      ]
     },
     "execution_count": 9,
     "metadata": {},
     "output_type": "execute_result"
    }
   ],
   "source": [
    "df.head()"
   ]
  },
  {
   "cell_type": "code",
   "execution_count": null,
   "id": "7f75f352",
   "metadata": {},
   "outputs": [],
   "source": []
  },
  {
   "cell_type": "code",
   "execution_count": 13,
   "id": "c5066ca0",
   "metadata": {},
   "outputs": [
    {
     "data": {
      "text/plain": [
       "RangeIndex(start=0, stop=42, step=1)"
      ]
     },
     "execution_count": 13,
     "metadata": {},
     "output_type": "execute_result"
    }
   ],
   "source": [
    "df.index"
   ]
  },
  {
   "cell_type": "code",
   "execution_count": null,
   "id": "a0cd7e2c",
   "metadata": {},
   "outputs": [],
   "source": []
  }
 ],
 "metadata": {
  "kernelspec": {
   "display_name": "Python 3 (ipykernel)",
   "language": "python",
   "name": "python3"
  },
  "language_info": {
   "codemirror_mode": {
    "name": "ipython",
    "version": 3
   },
   "file_extension": ".py",
   "mimetype": "text/x-python",
   "name": "python",
   "nbconvert_exporter": "python",
   "pygments_lexer": "ipython3",
   "version": "3.10.9"
  }
 },
 "nbformat": 4,
 "nbformat_minor": 5
}
